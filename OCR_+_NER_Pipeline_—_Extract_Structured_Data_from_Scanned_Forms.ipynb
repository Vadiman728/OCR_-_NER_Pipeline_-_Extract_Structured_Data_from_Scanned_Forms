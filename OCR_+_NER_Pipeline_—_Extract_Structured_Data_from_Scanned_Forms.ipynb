{
 "cells": [
  {
   "cell_type": "markdown",
   "metadata": {
    "colab_type": "text",
    "id": "view-in-github"
   },
   "source": [
    "<a href=\"https://colab.research.google.com/github/Vadiman728/OCR_-_NER_Pipeline_-_Extract_Structured_Data_from_Scanned_Forms/blob/main/OCR_%2B_NER_Pipeline_%E2%80%94_Extract_Structured_Data_from_Scanned_Forms.ipynb\" target=\"_parent\"><img src=\"https://colab.research.google.com/assets/colab-badge.svg\" alt=\"Open In Colab\"/></a>"
   ]
  },
  {
   "cell_type": "markdown",
   "metadata": {
    "id": "dHvCjScjElZF"
   },
   "source": [
    "OCR + NER Pipeline — Extract Structured Data from Scanned Forms\n",
    "\n",
    "*   Новый пункт\n",
    "*   Новый пункт\n",
    "\n",
    "\n",
    "Goal:\n",
    "Собрать пайплайн, который извлекает текст из изображений/PDF и выделяет сущности (имена, даты, суммы).\n",
    "README (short):\n",
    "\n",
    "  1. Цель: из сканов документов получить структурированные поля для загрузки в БД.\n",
    "\n",
    "  2. Стек: Tesseract or PaddleOCR, PyMuPDF, spaCy, regex, FastAPI (API).\n",
    "\n",
    "  3. Шаги:\n",
    "\t   - pip install pytesseract paddleocr spacy pymupdf fastapi uvicorn\n",
    "\t   - Подготовить OCR сегмент и spaCy модель с разметкой NER\n",
    "\t   - Запустить API, которое принимает PDF/image, запускает OCR и NER и возвращает JSON\n",
    "\n",
    "\n"
   ]
  },
  {
   "cell_type": "markdown",
   "metadata": {
    "id": "ARdjwXeXIbje"
   },
   "source": [
    "# Шаг 1. Подгружаем библиотеки"
   ]
  },
  {
   "cell_type": "code",
   "execution_count": 1,
   "metadata": {
    "colab": {
     "base_uri": "https://localhost:8080/"
    },
    "collapsed": true,
    "id": "lCTS04yrHjFr",
    "outputId": "95e75b73-7638-4224-97e9-664a3d53b101"
   },
   "outputs": [
    {
     "name": "stdout",
     "output_type": "stream",
     "text": [
      "Collecting paddlepaddle\n",
      "  Downloading paddlepaddle-3.2.0-cp312-cp312-manylinux1_x86_64.whl.metadata (8.8 kB)\n",
      "Requirement already satisfied: httpx in /usr/local/lib/python3.12/dist-packages (from paddlepaddle) (0.28.1)\n",
      "Requirement already satisfied: numpy>=1.21 in /usr/local/lib/python3.12/dist-packages (from paddlepaddle) (2.0.2)\n",
      "Requirement already satisfied: protobuf>=3.20.2 in /usr/local/lib/python3.12/dist-packages (from paddlepaddle) (5.29.5)\n",
      "Requirement already satisfied: Pillow in /usr/local/lib/python3.12/dist-packages (from paddlepaddle) (11.3.0)\n",
      "Collecting opt_einsum==3.3.0 (from paddlepaddle)\n",
      "  Downloading opt_einsum-3.3.0-py3-none-any.whl.metadata (6.5 kB)\n",
      "Requirement already satisfied: networkx in /usr/local/lib/python3.12/dist-packages (from paddlepaddle) (3.5)\n",
      "Requirement already satisfied: typing_extensions in /usr/local/lib/python3.12/dist-packages (from paddlepaddle) (4.15.0)\n",
      "Requirement already satisfied: safetensors>=0.6.0 in /usr/local/lib/python3.12/dist-packages (from paddlepaddle) (0.6.2)\n",
      "Requirement already satisfied: anyio in /usr/local/lib/python3.12/dist-packages (from httpx->paddlepaddle) (4.10.0)\n",
      "Requirement already satisfied: certifi in /usr/local/lib/python3.12/dist-packages (from httpx->paddlepaddle) (2025.8.3)\n",
      "Requirement already satisfied: httpcore==1.* in /usr/local/lib/python3.12/dist-packages (from httpx->paddlepaddle) (1.0.9)\n",
      "Requirement already satisfied: idna in /usr/local/lib/python3.12/dist-packages (from httpx->paddlepaddle) (3.10)\n",
      "Requirement already satisfied: h11>=0.16 in /usr/local/lib/python3.12/dist-packages (from httpcore==1.*->httpx->paddlepaddle) (0.16.0)\n",
      "Requirement already satisfied: sniffio>=1.1 in /usr/local/lib/python3.12/dist-packages (from anyio->httpx->paddlepaddle) (1.3.1)\n",
      "Downloading paddlepaddle-3.2.0-cp312-cp312-manylinux1_x86_64.whl (189.0 MB)\n",
      "\u001b[2K   \u001b[90m━━━━━━━━━━━━━━━━━━━━━━━━━━━━━━━━━━━━━━━━\u001b[0m \u001b[32m189.0/189.0 MB\u001b[0m \u001b[31m8.8 MB/s\u001b[0m eta \u001b[36m0:00:00\u001b[0m\n",
      "\u001b[?25hDownloading opt_einsum-3.3.0-py3-none-any.whl (65 kB)\n",
      "\u001b[2K   \u001b[90m━━━━━━━━━━━━━━━━━━━━━━━━━━━━━━━━━━━━━━━━\u001b[0m \u001b[32m65.5/65.5 kB\u001b[0m \u001b[31m4.2 MB/s\u001b[0m eta \u001b[36m0:00:00\u001b[0m\n",
      "\u001b[?25hInstalling collected packages: opt_einsum, paddlepaddle\n",
      "  Attempting uninstall: opt_einsum\n",
      "    Found existing installation: opt_einsum 3.4.0\n",
      "    Uninstalling opt_einsum-3.4.0:\n",
      "      Successfully uninstalled opt_einsum-3.4.0\n",
      "Successfully installed opt_einsum-3.3.0 paddlepaddle-3.2.0\n",
      "Collecting paddleocr\n",
      "  Downloading paddleocr-3.2.0-py3-none-any.whl.metadata (29 kB)\n",
      "Collecting paddlex<3.3.0,>=3.2.0 (from paddlex[ocr-core]<3.3.0,>=3.2.0->paddleocr)\n",
      "  Downloading paddlex-3.2.1-py3-none-any.whl.metadata (80 kB)\n",
      "\u001b[2K     \u001b[90m━━━━━━━━━━━━━━━━━━━━━━━━━━━━━━━━━━━━━━━━\u001b[0m \u001b[32m80.5/80.5 kB\u001b[0m \u001b[31m3.9 MB/s\u001b[0m eta \u001b[36m0:00:00\u001b[0m\n",
      "\u001b[?25hRequirement already satisfied: PyYAML>=6 in /usr/local/lib/python3.12/dist-packages (from paddleocr) (6.0.2)\n",
      "Requirement already satisfied: typing-extensions>=4.12 in /usr/local/lib/python3.12/dist-packages (from paddleocr) (4.15.0)\n",
      "Collecting aistudio_sdk>=0.3.5 (from paddlex<3.3.0,>=3.2.0->paddlex[ocr-core]<3.3.0,>=3.2.0->paddleocr)\n",
      "  Downloading aistudio_sdk-0.3.8-py3-none-any.whl.metadata (1.1 kB)\n",
      "Requirement already satisfied: chardet in /usr/local/lib/python3.12/dist-packages (from paddlex<3.3.0,>=3.2.0->paddlex[ocr-core]<3.3.0,>=3.2.0->paddleocr) (5.2.0)\n",
      "Collecting colorlog (from paddlex<3.3.0,>=3.2.0->paddlex[ocr-core]<3.3.0,>=3.2.0->paddleocr)\n",
      "  Downloading colorlog-6.9.0-py3-none-any.whl.metadata (10 kB)\n",
      "Requirement already satisfied: filelock in /usr/local/lib/python3.12/dist-packages (from paddlex<3.3.0,>=3.2.0->paddlex[ocr-core]<3.3.0,>=3.2.0->paddleocr) (3.19.1)\n",
      "Requirement already satisfied: huggingface_hub in /usr/local/lib/python3.12/dist-packages (from paddlex<3.3.0,>=3.2.0->paddlex[ocr-core]<3.3.0,>=3.2.0->paddleocr) (0.35.0)\n",
      "Collecting modelscope>=1.28.0 (from paddlex<3.3.0,>=3.2.0->paddlex[ocr-core]<3.3.0,>=3.2.0->paddleocr)\n",
      "  Downloading modelscope-1.30.0-py3-none-any.whl.metadata (40 kB)\n",
      "\u001b[2K     \u001b[90m━━━━━━━━━━━━━━━━━━━━━━━━━━━━━━━━━━━━━━━━\u001b[0m \u001b[32m40.4/40.4 kB\u001b[0m \u001b[31m2.3 MB/s\u001b[0m eta \u001b[36m0:00:00\u001b[0m\n",
      "\u001b[?25hRequirement already satisfied: numpy>=1.24 in /usr/local/lib/python3.12/dist-packages (from paddlex<3.3.0,>=3.2.0->paddlex[ocr-core]<3.3.0,>=3.2.0->paddleocr) (2.0.2)\n",
      "Requirement already satisfied: packaging in /usr/local/lib/python3.12/dist-packages (from paddlex<3.3.0,>=3.2.0->paddlex[ocr-core]<3.3.0,>=3.2.0->paddleocr) (25.0)\n",
      "Requirement already satisfied: pandas>=1.3 in /usr/local/lib/python3.12/dist-packages (from paddlex<3.3.0,>=3.2.0->paddlex[ocr-core]<3.3.0,>=3.2.0->paddleocr) (2.2.2)\n",
      "Requirement already satisfied: pillow in /usr/local/lib/python3.12/dist-packages (from paddlex<3.3.0,>=3.2.0->paddlex[ocr-core]<3.3.0,>=3.2.0->paddleocr) (11.3.0)\n",
      "Requirement already satisfied: prettytable in /usr/local/lib/python3.12/dist-packages (from paddlex<3.3.0,>=3.2.0->paddlex[ocr-core]<3.3.0,>=3.2.0->paddleocr) (3.16.0)\n",
      "Requirement already satisfied: py-cpuinfo in /usr/local/lib/python3.12/dist-packages (from paddlex<3.3.0,>=3.2.0->paddlex[ocr-core]<3.3.0,>=3.2.0->paddleocr) (9.0.0)\n",
      "Requirement already satisfied: pydantic>=2 in /usr/local/lib/python3.12/dist-packages (from paddlex<3.3.0,>=3.2.0->paddlex[ocr-core]<3.3.0,>=3.2.0->paddleocr) (2.11.9)\n",
      "Requirement already satisfied: requests in /usr/local/lib/python3.12/dist-packages (from paddlex<3.3.0,>=3.2.0->paddlex[ocr-core]<3.3.0,>=3.2.0->paddleocr) (2.32.4)\n",
      "Collecting ruamel.yaml (from paddlex<3.3.0,>=3.2.0->paddlex[ocr-core]<3.3.0,>=3.2.0->paddleocr)\n",
      "  Downloading ruamel.yaml-0.18.15-py3-none-any.whl.metadata (25 kB)\n",
      "Collecting ujson (from paddlex<3.3.0,>=3.2.0->paddlex[ocr-core]<3.3.0,>=3.2.0->paddleocr)\n",
      "  Downloading ujson-5.11.0-cp312-cp312-manylinux_2_24_x86_64.manylinux_2_28_x86_64.whl.metadata (9.4 kB)\n",
      "Requirement already satisfied: imagesize in /usr/local/lib/python3.12/dist-packages (from paddlex[ocr-core]<3.3.0,>=3.2.0->paddleocr) (1.4.1)\n",
      "Collecting opencv-contrib-python==4.10.0.84 (from paddlex[ocr-core]<3.3.0,>=3.2.0->paddleocr)\n",
      "  Downloading opencv_contrib_python-4.10.0.84-cp37-abi3-manylinux_2_17_x86_64.manylinux2014_x86_64.whl.metadata (20 kB)\n",
      "Collecting pyclipper (from paddlex[ocr-core]<3.3.0,>=3.2.0->paddleocr)\n",
      "  Downloading pyclipper-1.3.0.post6-cp312-cp312-manylinux_2_17_x86_64.manylinux2014_x86_64.whl.metadata (9.0 kB)\n",
      "Collecting pypdfium2>=4 (from paddlex[ocr-core]<3.3.0,>=3.2.0->paddleocr)\n",
      "  Downloading pypdfium2-4.30.0-py3-none-manylinux_2_17_x86_64.manylinux2014_x86_64.whl.metadata (48 kB)\n",
      "\u001b[2K     \u001b[90m━━━━━━━━━━━━━━━━━━━━━━━━━━━━━━━━━━━━━━━━\u001b[0m \u001b[32m48.5/48.5 kB\u001b[0m \u001b[31m3.1 MB/s\u001b[0m eta \u001b[36m0:00:00\u001b[0m\n",
      "\u001b[?25hRequirement already satisfied: shapely in /usr/local/lib/python3.12/dist-packages (from paddlex[ocr-core]<3.3.0,>=3.2.0->paddleocr) (2.1.1)\n",
      "Requirement already satisfied: psutil in /usr/local/lib/python3.12/dist-packages (from aistudio_sdk>=0.3.5->paddlex<3.3.0,>=3.2.0->paddlex[ocr-core]<3.3.0,>=3.2.0->paddleocr) (5.9.5)\n",
      "Requirement already satisfied: tqdm in /usr/local/lib/python3.12/dist-packages (from aistudio_sdk>=0.3.5->paddlex<3.3.0,>=3.2.0->paddlex[ocr-core]<3.3.0,>=3.2.0->paddleocr) (4.67.1)\n",
      "Collecting bce-python-sdk (from aistudio_sdk>=0.3.5->paddlex<3.3.0,>=3.2.0->paddlex[ocr-core]<3.3.0,>=3.2.0->paddleocr)\n",
      "  Downloading bce_python_sdk-0.9.46-py3-none-any.whl.metadata (416 bytes)\n",
      "Requirement already satisfied: click in /usr/local/lib/python3.12/dist-packages (from aistudio_sdk>=0.3.5->paddlex<3.3.0,>=3.2.0->paddlex[ocr-core]<3.3.0,>=3.2.0->paddleocr) (8.2.1)\n",
      "Requirement already satisfied: setuptools in /usr/local/lib/python3.12/dist-packages (from modelscope>=1.28.0->paddlex<3.3.0,>=3.2.0->paddlex[ocr-core]<3.3.0,>=3.2.0->paddleocr) (75.2.0)\n",
      "Requirement already satisfied: urllib3>=1.26 in /usr/local/lib/python3.12/dist-packages (from modelscope>=1.28.0->paddlex<3.3.0,>=3.2.0->paddlex[ocr-core]<3.3.0,>=3.2.0->paddleocr) (2.5.0)\n",
      "Requirement already satisfied: python-dateutil>=2.8.2 in /usr/local/lib/python3.12/dist-packages (from pandas>=1.3->paddlex<3.3.0,>=3.2.0->paddlex[ocr-core]<3.3.0,>=3.2.0->paddleocr) (2.9.0.post0)\n",
      "Requirement already satisfied: pytz>=2020.1 in /usr/local/lib/python3.12/dist-packages (from pandas>=1.3->paddlex<3.3.0,>=3.2.0->paddlex[ocr-core]<3.3.0,>=3.2.0->paddleocr) (2025.2)\n",
      "Requirement already satisfied: tzdata>=2022.7 in /usr/local/lib/python3.12/dist-packages (from pandas>=1.3->paddlex<3.3.0,>=3.2.0->paddlex[ocr-core]<3.3.0,>=3.2.0->paddleocr) (2025.2)\n",
      "Requirement already satisfied: annotated-types>=0.6.0 in /usr/local/lib/python3.12/dist-packages (from pydantic>=2->paddlex<3.3.0,>=3.2.0->paddlex[ocr-core]<3.3.0,>=3.2.0->paddleocr) (0.7.0)\n",
      "Requirement already satisfied: pydantic-core==2.33.2 in /usr/local/lib/python3.12/dist-packages (from pydantic>=2->paddlex<3.3.0,>=3.2.0->paddlex[ocr-core]<3.3.0,>=3.2.0->paddleocr) (2.33.2)\n",
      "Requirement already satisfied: typing-inspection>=0.4.0 in /usr/local/lib/python3.12/dist-packages (from pydantic>=2->paddlex<3.3.0,>=3.2.0->paddlex[ocr-core]<3.3.0,>=3.2.0->paddleocr) (0.4.1)\n",
      "Requirement already satisfied: charset_normalizer<4,>=2 in /usr/local/lib/python3.12/dist-packages (from requests->paddlex<3.3.0,>=3.2.0->paddlex[ocr-core]<3.3.0,>=3.2.0->paddleocr) (3.4.3)\n",
      "Requirement already satisfied: idna<4,>=2.5 in /usr/local/lib/python3.12/dist-packages (from requests->paddlex<3.3.0,>=3.2.0->paddlex[ocr-core]<3.3.0,>=3.2.0->paddleocr) (3.10)\n",
      "Requirement already satisfied: certifi>=2017.4.17 in /usr/local/lib/python3.12/dist-packages (from requests->paddlex<3.3.0,>=3.2.0->paddlex[ocr-core]<3.3.0,>=3.2.0->paddleocr) (2025.8.3)\n",
      "Requirement already satisfied: fsspec>=2023.5.0 in /usr/local/lib/python3.12/dist-packages (from huggingface_hub->paddlex<3.3.0,>=3.2.0->paddlex[ocr-core]<3.3.0,>=3.2.0->paddleocr) (2025.3.0)\n",
      "Requirement already satisfied: hf-xet<2.0.0,>=1.1.3 in /usr/local/lib/python3.12/dist-packages (from huggingface_hub->paddlex<3.3.0,>=3.2.0->paddlex[ocr-core]<3.3.0,>=3.2.0->paddleocr) (1.1.10)\n",
      "Requirement already satisfied: wcwidth in /usr/local/lib/python3.12/dist-packages (from prettytable->paddlex<3.3.0,>=3.2.0->paddlex[ocr-core]<3.3.0,>=3.2.0->paddleocr) (0.2.13)\n",
      "Collecting ruamel.yaml.clib>=0.2.7 (from ruamel.yaml->paddlex<3.3.0,>=3.2.0->paddlex[ocr-core]<3.3.0,>=3.2.0->paddleocr)\n",
      "  Downloading ruamel.yaml.clib-0.2.14-cp312-cp312-manylinux_2_17_x86_64.manylinux2014_x86_64.whl.metadata (3.0 kB)\n",
      "Requirement already satisfied: six>=1.5 in /usr/local/lib/python3.12/dist-packages (from python-dateutil>=2.8.2->pandas>=1.3->paddlex<3.3.0,>=3.2.0->paddlex[ocr-core]<3.3.0,>=3.2.0->paddleocr) (1.17.0)\n",
      "Collecting pycryptodome>=3.8.0 (from bce-python-sdk->aistudio_sdk>=0.3.5->paddlex<3.3.0,>=3.2.0->paddlex[ocr-core]<3.3.0,>=3.2.0->paddleocr)\n",
      "  Downloading pycryptodome-3.23.0-cp37-abi3-manylinux_2_17_x86_64.manylinux2014_x86_64.whl.metadata (3.4 kB)\n",
      "Requirement already satisfied: future>=0.6.0 in /usr/local/lib/python3.12/dist-packages (from bce-python-sdk->aistudio_sdk>=0.3.5->paddlex<3.3.0,>=3.2.0->paddlex[ocr-core]<3.3.0,>=3.2.0->paddleocr) (1.0.0)\n",
      "Downloading paddleocr-3.2.0-py3-none-any.whl (75 kB)\n",
      "\u001b[2K   \u001b[90m━━━━━━━━━━━━━━━━━━━━━━━━━━━━━━━━━━━━━━━━\u001b[0m \u001b[32m76.0/76.0 kB\u001b[0m \u001b[31m5.8 MB/s\u001b[0m eta \u001b[36m0:00:00\u001b[0m\n",
      "\u001b[?25hDownloading paddlex-3.2.1-py3-none-any.whl (1.7 MB)\n",
      "\u001b[2K   \u001b[90m━━━━━━━━━━━━━━━━━━━━━━━━━━━━━━━━━━━━━━━━\u001b[0m \u001b[32m1.7/1.7 MB\u001b[0m \u001b[31m47.1 MB/s\u001b[0m eta \u001b[36m0:00:00\u001b[0m\n",
      "\u001b[?25hDownloading opencv_contrib_python-4.10.0.84-cp37-abi3-manylinux_2_17_x86_64.manylinux2014_x86_64.whl (68.7 MB)\n",
      "\u001b[2K   \u001b[90m━━━━━━━━━━━━━━━━━━━━━━━━━━━━━━━━━━━━━━━━\u001b[0m \u001b[32m68.7/68.7 MB\u001b[0m \u001b[31m12.3 MB/s\u001b[0m eta \u001b[36m0:00:00\u001b[0m\n",
      "\u001b[?25hDownloading aistudio_sdk-0.3.8-py3-none-any.whl (62 kB)\n",
      "\u001b[2K   \u001b[90m━━━━━━━━━━━━━━━━━━━━━━━━━━━━━━━━━━━━━━━━\u001b[0m \u001b[32m63.0/63.0 kB\u001b[0m \u001b[31m4.5 MB/s\u001b[0m eta \u001b[36m0:00:00\u001b[0m\n",
      "\u001b[?25hDownloading modelscope-1.30.0-py3-none-any.whl (5.9 MB)\n",
      "\u001b[2K   \u001b[90m━━━━━━━━━━━━━━━━━━━━━━━━━━━━━━━━━━━━━━━━\u001b[0m \u001b[32m5.9/5.9 MB\u001b[0m \u001b[31m114.8 MB/s\u001b[0m eta \u001b[36m0:00:00\u001b[0m\n",
      "\u001b[?25hDownloading pypdfium2-4.30.0-py3-none-manylinux_2_17_x86_64.manylinux2014_x86_64.whl (2.8 MB)\n",
      "\u001b[2K   \u001b[90m━━━━━━━━━━━━━━━━━━━━━━━━━━━━━━━━━━━━━━━━\u001b[0m \u001b[32m2.8/2.8 MB\u001b[0m \u001b[31m77.9 MB/s\u001b[0m eta \u001b[36m0:00:00\u001b[0m\n",
      "\u001b[?25hDownloading colorlog-6.9.0-py3-none-any.whl (11 kB)\n",
      "Downloading pyclipper-1.3.0.post6-cp312-cp312-manylinux_2_17_x86_64.manylinux2014_x86_64.whl (963 kB)\n",
      "\u001b[2K   \u001b[90m━━━━━━━━━━━━━━━━━━━━━━━━━━━━━━━━━━━━━━━━\u001b[0m \u001b[32m963.8/963.8 kB\u001b[0m \u001b[31m40.3 MB/s\u001b[0m eta \u001b[36m0:00:00\u001b[0m\n",
      "\u001b[?25hDownloading ruamel.yaml-0.18.15-py3-none-any.whl (119 kB)\n",
      "\u001b[2K   \u001b[90m━━━━━━━━━━━━━━━━━━━━━━━━━━━━━━━━━━━━━━━━\u001b[0m \u001b[32m119.7/119.7 kB\u001b[0m \u001b[31m8.7 MB/s\u001b[0m eta \u001b[36m0:00:00\u001b[0m\n",
      "\u001b[?25hDownloading ujson-5.11.0-cp312-cp312-manylinux_2_24_x86_64.manylinux_2_28_x86_64.whl (57 kB)\n",
      "\u001b[2K   \u001b[90m━━━━━━━━━━━━━━━━━━━━━━━━━━━━━━━━━━━━━━━━\u001b[0m \u001b[32m57.4/57.4 kB\u001b[0m \u001b[31m3.4 MB/s\u001b[0m eta \u001b[36m0:00:00\u001b[0m\n",
      "\u001b[?25hDownloading ruamel.yaml.clib-0.2.14-cp312-cp312-manylinux_2_17_x86_64.manylinux2014_x86_64.whl (753 kB)\n",
      "\u001b[2K   \u001b[90m━━━━━━━━━━━━━━━━━━━━━━━━━━━━━━━━━━━━━━━━\u001b[0m \u001b[32m753.1/753.1 kB\u001b[0m \u001b[31m39.5 MB/s\u001b[0m eta \u001b[36m0:00:00\u001b[0m\n",
      "\u001b[?25hDownloading bce_python_sdk-0.9.46-py3-none-any.whl (352 kB)\n",
      "\u001b[2K   \u001b[90m━━━━━━━━━━━━━━━━━━━━━━━━━━━━━━━━━━━━━━━━\u001b[0m \u001b[32m352.6/352.6 kB\u001b[0m \u001b[31m21.9 MB/s\u001b[0m eta \u001b[36m0:00:00\u001b[0m\n",
      "\u001b[?25hDownloading pycryptodome-3.23.0-cp37-abi3-manylinux_2_17_x86_64.manylinux2014_x86_64.whl (2.3 MB)\n",
      "\u001b[2K   \u001b[90m━━━━━━━━━━━━━━━━━━━━━━━━━━━━━━━━━━━━━━━━\u001b[0m \u001b[32m2.3/2.3 MB\u001b[0m \u001b[31m70.8 MB/s\u001b[0m eta \u001b[36m0:00:00\u001b[0m\n",
      "\u001b[?25hInstalling collected packages: pyclipper, ujson, ruamel.yaml.clib, pypdfium2, pycryptodome, opencv-contrib-python, colorlog, ruamel.yaml, modelscope, bce-python-sdk, aistudio_sdk, paddlex, paddleocr\n",
      "  Attempting uninstall: opencv-contrib-python\n",
      "    Found existing installation: opencv-contrib-python 4.12.0.88\n",
      "    Uninstalling opencv-contrib-python-4.12.0.88:\n",
      "      Successfully uninstalled opencv-contrib-python-4.12.0.88\n",
      "Successfully installed aistudio_sdk-0.3.8 bce-python-sdk-0.9.46 colorlog-6.9.0 modelscope-1.30.0 opencv-contrib-python-4.10.0.84 paddleocr-3.2.0 paddlex-3.2.1 pyclipper-1.3.0.post6 pycryptodome-3.23.0 pypdfium2-4.30.0 ruamel.yaml-0.18.15 ruamel.yaml.clib-0.2.14 ujson-5.11.0\n",
      "Requirement already satisfied: spacy in /usr/local/lib/python3.12/dist-packages (3.8.7)\n",
      "Requirement already satisfied: spacy-legacy<3.1.0,>=3.0.11 in /usr/local/lib/python3.12/dist-packages (from spacy) (3.0.12)\n",
      "Requirement already satisfied: spacy-loggers<2.0.0,>=1.0.0 in /usr/local/lib/python3.12/dist-packages (from spacy) (1.0.5)\n",
      "Requirement already satisfied: murmurhash<1.1.0,>=0.28.0 in /usr/local/lib/python3.12/dist-packages (from spacy) (1.0.13)\n",
      "Requirement already satisfied: cymem<2.1.0,>=2.0.2 in /usr/local/lib/python3.12/dist-packages (from spacy) (2.0.11)\n",
      "Requirement already satisfied: preshed<3.1.0,>=3.0.2 in /usr/local/lib/python3.12/dist-packages (from spacy) (3.0.10)\n",
      "Requirement already satisfied: thinc<8.4.0,>=8.3.4 in /usr/local/lib/python3.12/dist-packages (from spacy) (8.3.6)\n",
      "Requirement already satisfied: wasabi<1.2.0,>=0.9.1 in /usr/local/lib/python3.12/dist-packages (from spacy) (1.1.3)\n",
      "Requirement already satisfied: srsly<3.0.0,>=2.4.3 in /usr/local/lib/python3.12/dist-packages (from spacy) (2.5.1)\n",
      "Requirement already satisfied: catalogue<2.1.0,>=2.0.6 in /usr/local/lib/python3.12/dist-packages (from spacy) (2.0.10)\n",
      "Requirement already satisfied: weasel<0.5.0,>=0.1.0 in /usr/local/lib/python3.12/dist-packages (from spacy) (0.4.1)\n",
      "Requirement already satisfied: typer<1.0.0,>=0.3.0 in /usr/local/lib/python3.12/dist-packages (from spacy) (0.17.4)\n",
      "Requirement already satisfied: tqdm<5.0.0,>=4.38.0 in /usr/local/lib/python3.12/dist-packages (from spacy) (4.67.1)\n",
      "Requirement already satisfied: numpy>=1.19.0 in /usr/local/lib/python3.12/dist-packages (from spacy) (2.0.2)\n",
      "Requirement already satisfied: requests<3.0.0,>=2.13.0 in /usr/local/lib/python3.12/dist-packages (from spacy) (2.32.4)\n",
      "Requirement already satisfied: pydantic!=1.8,!=1.8.1,<3.0.0,>=1.7.4 in /usr/local/lib/python3.12/dist-packages (from spacy) (2.11.9)\n",
      "Requirement already satisfied: jinja2 in /usr/local/lib/python3.12/dist-packages (from spacy) (3.1.6)\n",
      "Requirement already satisfied: setuptools in /usr/local/lib/python3.12/dist-packages (from spacy) (75.2.0)\n",
      "Requirement already satisfied: packaging>=20.0 in /usr/local/lib/python3.12/dist-packages (from spacy) (25.0)\n",
      "Requirement already satisfied: langcodes<4.0.0,>=3.2.0 in /usr/local/lib/python3.12/dist-packages (from spacy) (3.5.0)\n",
      "Requirement already satisfied: language-data>=1.2 in /usr/local/lib/python3.12/dist-packages (from langcodes<4.0.0,>=3.2.0->spacy) (1.3.0)\n",
      "Requirement already satisfied: annotated-types>=0.6.0 in /usr/local/lib/python3.12/dist-packages (from pydantic!=1.8,!=1.8.1,<3.0.0,>=1.7.4->spacy) (0.7.0)\n",
      "Requirement already satisfied: pydantic-core==2.33.2 in /usr/local/lib/python3.12/dist-packages (from pydantic!=1.8,!=1.8.1,<3.0.0,>=1.7.4->spacy) (2.33.2)\n",
      "Requirement already satisfied: typing-extensions>=4.12.2 in /usr/local/lib/python3.12/dist-packages (from pydantic!=1.8,!=1.8.1,<3.0.0,>=1.7.4->spacy) (4.15.0)\n",
      "Requirement already satisfied: typing-inspection>=0.4.0 in /usr/local/lib/python3.12/dist-packages (from pydantic!=1.8,!=1.8.1,<3.0.0,>=1.7.4->spacy) (0.4.1)\n",
      "Requirement already satisfied: charset_normalizer<4,>=2 in /usr/local/lib/python3.12/dist-packages (from requests<3.0.0,>=2.13.0->spacy) (3.4.3)\n",
      "Requirement already satisfied: idna<4,>=2.5 in /usr/local/lib/python3.12/dist-packages (from requests<3.0.0,>=2.13.0->spacy) (3.10)\n",
      "Requirement already satisfied: urllib3<3,>=1.21.1 in /usr/local/lib/python3.12/dist-packages (from requests<3.0.0,>=2.13.0->spacy) (2.5.0)\n",
      "Requirement already satisfied: certifi>=2017.4.17 in /usr/local/lib/python3.12/dist-packages (from requests<3.0.0,>=2.13.0->spacy) (2025.8.3)\n",
      "Requirement already satisfied: blis<1.4.0,>=1.3.0 in /usr/local/lib/python3.12/dist-packages (from thinc<8.4.0,>=8.3.4->spacy) (1.3.0)\n",
      "Requirement already satisfied: confection<1.0.0,>=0.0.1 in /usr/local/lib/python3.12/dist-packages (from thinc<8.4.0,>=8.3.4->spacy) (0.1.5)\n",
      "Requirement already satisfied: click>=8.0.0 in /usr/local/lib/python3.12/dist-packages (from typer<1.0.0,>=0.3.0->spacy) (8.2.1)\n",
      "Requirement already satisfied: shellingham>=1.3.0 in /usr/local/lib/python3.12/dist-packages (from typer<1.0.0,>=0.3.0->spacy) (1.5.4)\n",
      "Requirement already satisfied: rich>=10.11.0 in /usr/local/lib/python3.12/dist-packages (from typer<1.0.0,>=0.3.0->spacy) (13.9.4)\n",
      "Requirement already satisfied: cloudpathlib<1.0.0,>=0.7.0 in /usr/local/lib/python3.12/dist-packages (from weasel<0.5.0,>=0.1.0->spacy) (0.22.0)\n",
      "Requirement already satisfied: smart-open<8.0.0,>=5.2.1 in /usr/local/lib/python3.12/dist-packages (from weasel<0.5.0,>=0.1.0->spacy) (7.3.1)\n",
      "Requirement already satisfied: MarkupSafe>=2.0 in /usr/local/lib/python3.12/dist-packages (from jinja2->spacy) (3.0.2)\n",
      "Requirement already satisfied: marisa-trie>=1.1.0 in /usr/local/lib/python3.12/dist-packages (from language-data>=1.2->langcodes<4.0.0,>=3.2.0->spacy) (1.3.1)\n",
      "Requirement already satisfied: markdown-it-py>=2.2.0 in /usr/local/lib/python3.12/dist-packages (from rich>=10.11.0->typer<1.0.0,>=0.3.0->spacy) (4.0.0)\n",
      "Requirement already satisfied: pygments<3.0.0,>=2.13.0 in /usr/local/lib/python3.12/dist-packages (from rich>=10.11.0->typer<1.0.0,>=0.3.0->spacy) (2.19.2)\n",
      "Requirement already satisfied: wrapt in /usr/local/lib/python3.12/dist-packages (from smart-open<8.0.0,>=5.2.1->weasel<0.5.0,>=0.1.0->spacy) (1.17.3)\n",
      "Requirement already satisfied: mdurl~=0.1 in /usr/local/lib/python3.12/dist-packages (from markdown-it-py>=2.2.0->rich>=10.11.0->typer<1.0.0,>=0.3.0->spacy) (0.1.2)\n",
      "Collecting pymupdf\n",
      "  Downloading pymupdf-1.26.4-cp39-abi3-manylinux_2_28_x86_64.whl.metadata (3.4 kB)\n",
      "Downloading pymupdf-1.26.4-cp39-abi3-manylinux_2_28_x86_64.whl (24.1 MB)\n",
      "\u001b[2K   \u001b[90m━━━━━━━━━━━━━━━━━━━━━━━━━━━━━━━━━━━━━━━━\u001b[0m \u001b[32m24.1/24.1 MB\u001b[0m \u001b[31m22.0 MB/s\u001b[0m eta \u001b[36m0:00:00\u001b[0m\n",
      "\u001b[?25hInstalling collected packages: pymupdf\n",
      "Successfully installed pymupdf-1.26.4\n",
      "Requirement already satisfied: fastapi in /usr/local/lib/python3.12/dist-packages (0.116.2)\n",
      "Requirement already satisfied: starlette<0.49.0,>=0.40.0 in /usr/local/lib/python3.12/dist-packages (from fastapi) (0.48.0)\n",
      "Requirement already satisfied: pydantic!=1.8,!=1.8.1,!=2.0.0,!=2.0.1,!=2.1.0,<3.0.0,>=1.7.4 in /usr/local/lib/python3.12/dist-packages (from fastapi) (2.11.9)\n",
      "Requirement already satisfied: typing-extensions>=4.8.0 in /usr/local/lib/python3.12/dist-packages (from fastapi) (4.15.0)\n",
      "Requirement already satisfied: annotated-types>=0.6.0 in /usr/local/lib/python3.12/dist-packages (from pydantic!=1.8,!=1.8.1,!=2.0.0,!=2.0.1,!=2.1.0,<3.0.0,>=1.7.4->fastapi) (0.7.0)\n",
      "Requirement already satisfied: pydantic-core==2.33.2 in /usr/local/lib/python3.12/dist-packages (from pydantic!=1.8,!=1.8.1,!=2.0.0,!=2.0.1,!=2.1.0,<3.0.0,>=1.7.4->fastapi) (2.33.2)\n",
      "Requirement already satisfied: typing-inspection>=0.4.0 in /usr/local/lib/python3.12/dist-packages (from pydantic!=1.8,!=1.8.1,!=2.0.0,!=2.0.1,!=2.1.0,<3.0.0,>=1.7.4->fastapi) (0.4.1)\n",
      "Requirement already satisfied: anyio<5,>=3.6.2 in /usr/local/lib/python3.12/dist-packages (from starlette<0.49.0,>=0.40.0->fastapi) (4.10.0)\n",
      "Requirement already satisfied: idna>=2.8 in /usr/local/lib/python3.12/dist-packages (from anyio<5,>=3.6.2->starlette<0.49.0,>=0.40.0->fastapi) (3.10)\n",
      "Requirement already satisfied: sniffio>=1.1 in /usr/local/lib/python3.12/dist-packages (from anyio<5,>=3.6.2->starlette<0.49.0,>=0.40.0->fastapi) (1.3.1)\n",
      "Requirement already satisfied: uvicorn in /usr/local/lib/python3.12/dist-packages (0.35.0)\n",
      "Requirement already satisfied: click>=7.0 in /usr/local/lib/python3.12/dist-packages (from uvicorn) (8.2.1)\n",
      "Requirement already satisfied: h11>=0.8 in /usr/local/lib/python3.12/dist-packages (from uvicorn) (0.16.0)\n",
      "Collecting ru-core-news-sm==3.8.0\n",
      "  Downloading https://github.com/explosion/spacy-models/releases/download/ru_core_news_sm-3.8.0/ru_core_news_sm-3.8.0-py3-none-any.whl (15.3 MB)\n",
      "\u001b[2K     \u001b[90m━━━━━━━━━━━━━━━━━━━━━━━━━━━━━━━━━━━━━━━━\u001b[0m \u001b[32m15.3/15.3 MB\u001b[0m \u001b[31m75.6 MB/s\u001b[0m eta \u001b[36m0:00:00\u001b[0m\n",
      "\u001b[?25hCollecting pymorphy3>=1.0.0 (from ru-core-news-sm==3.8.0)\n",
      "  Downloading pymorphy3-2.0.4-py3-none-any.whl.metadata (2.4 kB)\n",
      "Collecting dawg2-python>=0.8.0 (from pymorphy3>=1.0.0->ru-core-news-sm==3.8.0)\n",
      "  Downloading dawg2_python-0.9.0-py3-none-any.whl.metadata (7.5 kB)\n",
      "Collecting pymorphy3-dicts-ru (from pymorphy3>=1.0.0->ru-core-news-sm==3.8.0)\n",
      "  Downloading pymorphy3_dicts_ru-2.4.417150.4580142-py2.py3-none-any.whl.metadata (2.0 kB)\n",
      "Requirement already satisfied: setuptools>=68.2.2 in /usr/local/lib/python3.12/dist-packages (from pymorphy3>=1.0.0->ru-core-news-sm==3.8.0) (75.2.0)\n",
      "Downloading pymorphy3-2.0.4-py3-none-any.whl (54 kB)\n",
      "\u001b[2K   \u001b[90m━━━━━━━━━━━━━━━━━━━━━━━━━━━━━━━━━━━━━━━━\u001b[0m \u001b[32m54.1/54.1 kB\u001b[0m \u001b[31m2.1 MB/s\u001b[0m eta \u001b[36m0:00:00\u001b[0m\n",
      "\u001b[?25hDownloading dawg2_python-0.9.0-py3-none-any.whl (9.3 kB)\n",
      "Downloading pymorphy3_dicts_ru-2.4.417150.4580142-py2.py3-none-any.whl (8.4 MB)\n",
      "\u001b[2K   \u001b[90m━━━━━━━━━━━━━━━━━━━━━━━━━━━━━━━━━━━━━━━━\u001b[0m \u001b[32m8.4/8.4 MB\u001b[0m \u001b[31m86.1 MB/s\u001b[0m eta \u001b[36m0:00:00\u001b[0m\n",
      "\u001b[?25hInstalling collected packages: pymorphy3-dicts-ru, dawg2-python, pymorphy3, ru-core-news-sm\n",
      "Successfully installed dawg2-python-0.9.0 pymorphy3-2.0.4 pymorphy3-dicts-ru-2.4.417150.4580142 ru-core-news-sm-3.8.0\n",
      "\u001b[38;5;2m✔ Download and installation successful\u001b[0m\n",
      "You can now load the package via spacy.load('ru_core_news_sm')\n",
      "\u001b[38;5;3m⚠ Restart to reload dependencies\u001b[0m\n",
      "If you are in a Jupyter or Colab notebook, you may need to restart Python in\n",
      "order to load all the package's dependencies. You can do this by selecting the\n",
      "'Restart kernel' or 'Restart runtime' option.\n"
     ]
    }
   ],
   "source": [
    "!pip install paddlepaddle\n",
    "!pip install paddleocr\n",
    "!pip install spacy\n",
    "!pip install pymupdf # Или fitz (PyMuPDF)\n",
    "!pip install fastapi\n",
    "!pip install uvicorn\n",
    "# Установка модели spaCy для русского языка\n",
    "!python -m spacy download ru_core_news_sm"
   ]
  },
  {
   "cell_type": "markdown",
   "metadata": {
    "id": "1w3i58jcIkTv"
   },
   "source": [
    "# Шаг 2. Загружаем OCR модель"
   ]
  },
  {
   "cell_type": "markdown",
   "metadata": {
    "id": "SYa3JWylJk_-"
   },
   "source": [
    "Загружаем модель PaddleOCR на русском языке. Можно было бы загрузить и с параметром 'lg' вместо 'ru', но 1- модель была бы тяжелое 2- Мы знаем что тестовый текст будет на русском, потому не будем усложнять"
   ]
  },
  {
   "cell_type": "code",
   "execution_count": 2,
   "metadata": {
    "colab": {
     "base_uri": "https://localhost:8080/"
    },
    "id": "N6KDTcqqIomz",
    "outputId": "96745fe3-d53f-4192-c8de-3b01e964d35c"
   },
   "outputs": [
    {
     "name": "stdout",
     "output_type": "stream",
     "text": [
      "3.2.0\n"
     ]
    }
   ],
   "source": [
    "import paddleocr\n",
    "print(paddleocr.__version__)"
   ]
  },
  {
   "cell_type": "code",
   "execution_count": 3,
   "metadata": {
    "colab": {
     "base_uri": "https://localhost:8080/",
     "height": 0,
     "referenced_widgets": [
      "3f5e189ac1fa440ea5f3f8b1f304ded5",
      "2c9117770d3846cebafaad7db58c4a58",
      "0244d668ce87481e91d74c785134cff0",
      "aa58f78f6d25405ba8ea643f97719ba1",
      "8d1f808206b242dc8064a2ea5509015d",
      "347104860d844f08934e6bfbfff82ae9",
      "da7ee3e843134a7bb143c559694dded1",
      "baf839255b314741ba035be89849ee07",
      "0f75280f0141437f802954010a90cd47",
      "3ef5d637ca2e4827bd7059743d760ca6",
      "5c3b3e3acc09405885a436ada968905f",
      "285162eee2ee46cba5169143bb571eec",
      "2348a600ec5d44bca112e0b862a0457a",
      "c6aa98c492a94a788c71083d8662b1cb",
      "3028f43c54614a8db9df8c78ba65866e",
      "9f0c5c08ea8441469d3f4e99a53b50ac",
      "bee5093c22494d838be96efd4cc15663",
      "10648d36481b4e92aa95f21eac39c2cd",
      "7ce95ff9efba44df8089a1aefef22dba",
      "45e1a9b53f0f42a18534c68eb32175c4",
      "7f5d0924e7df4ec2bf300f97af5b9d73",
      "4ea776c35ed94fc88e77e6ececc63b29",
      "4c381f740f9443ff9fd43991c25534b1",
      "d63c564412d24cfbb351ef0b04bc1e46",
      "e1f0810446b24826be5da3df09501264",
      "57b9275ab7b8424a87ea511d442b44f0",
      "ef9f99ee4b7241f4a1f61480f5df9ebc",
      "b755d94a54cb4b3a9276f5e3df74ac9d",
      "0fdc1858468e4cce9c3891c84b39b4b3",
      "382897f91944430caec7ddd5fdbfcc75",
      "7f1896a9881c416ba95b5ad7c10b3913",
      "8366afbb6c834bf1a79ea8156a84978b",
      "6116ab7e8b4941329a0b836888145a99",
      "e7e8ae17cfbc4d999674c92939eefcbf",
      "d7528b9cb8374a789b8903050a475966",
      "a1b718daa7e54e61b6eb8c3e740b354c",
      "409ccfebbb6847d5a1b32daca9fb4025",
      "b3c3a68f00e048149177a97cb653a4c2",
      "50330dc1e3454dbf9114b3a1d81f002b",
      "3b1eff06c5e04ed0afcf73aebcb31e13",
      "0e94562552174f1daf32aa1327ee4fab",
      "9c222888cdc74f3aa1cb61dccf89da4d",
      "b3627bae41454bd4babf5fa686ecedda",
      "a13718e14e3d4d7088844600d428f589",
      "d086ae71c6a74e38b811930e8e277dc8",
      "678fff4098a644649a956612c4f621ba",
      "03558d0de5e3437ab4bb4fa8ee1345b8",
      "a86391ff346c47c9a6bdc67f834f8655",
      "94a1e4c727ec4fb9aaa15c6cf5a56886",
      "33258366996940829a93b80a639d175e",
      "7f012905e9e645b6a8ecdbe4f82a451e",
      "ae4623daa3ff461bbeb540520d4a8735",
      "3f48d98b189243e4b90e964cca6b9f21",
      "3b66a3f1e2114a2a88aad14451fc500f",
      "0b5ef946136343ecab8166caa6754a8f",
      "1e8c4d38179141ad904825e2130f7057",
      "cfedfb564d42424b8e41e5df0b6474a8",
      "3789bc94dcff49b4af48a83006be6acf",
      "6cafb686be3049468ab7904bf4dee3b0",
      "db668956b0434d58a7fde4a2d006b3a7",
      "6b769b45e73b4a50b4e37521be8a50fe",
      "ffa9fe91f2034cf9879b70bc9f1b1b37",
      "0cd2e79e3f99454d9d7cc647b1903227",
      "a682a38a59c14fee8f385784a9a4da3c",
      "34b5f8d29d914a2782cfe9a43c155237",
      "5620a30d1e4b496fbef8418ecd395e42",
      "4b22412434714a7ead11673b7015d835",
      "b95e292f24934961a293fcff089f8687",
      "d5ce759fb0ab4c42acb444b7b6665dc6",
      "279595f9009b46ea9644b0c77b243c0b",
      "b0cc80d9a0af4117ad4b0d7603a12afb",
      "a0475de284254c0c9ee5972c476a32db",
      "1ba9e7f68a53431ba5773f718b8f5f4e",
      "a832f3b660554318b9f5949c8f5a4116",
      "d9de3d0489b64af58b8f75eec5e76a79",
      "719b194c114944b6906de0590c05f97b",
      "6631b977513347e4882f06ea35425510",
      "a2f3c656c5e441d0b1fb953c9a40f8e1",
      "d6b8863b370f45589a190c7ac3b9cf10",
      "4a4f80f15cb84f688a5acf0a7c498dc7",
      "eb583f4240af4cc7bfb965450e28f982",
      "1e004912f8c64702bf5dc014ecfb8f7b",
      "9eea44471f1a4b7481eb101bbf53d444",
      "4fc9b868f16a4821b219bb58be3a3979",
      "f319300afa564d2284b0cdc63a930a9b",
      "2f18eb4dfbdc48758940166a05efcedc",
      "1f693338de4e409e9bdf84d921439dd0",
      "e81912cc0d6a4575991e8ede36d83be5",
      "6585a079809f4acaaca8e5e49c3d70d4",
      "c5ee89d2d30c462dbacb4de69d0342d5",
      "5b82925489444fabbb419de3692b7599",
      "4d936d8ae5844886a167d4204506e873",
      "fdc2cf19a74645c18d5295d05333b41e",
      "3d91c038b98347b3b068c73adbe523eb",
      "56e37ecefb3948839cc5c1454eb68529",
      "ee21092366ac481e954e7dcb690ef158",
      "18cebca3d23343af86b4fd3baf4fe775",
      "0842e21f920c48b6bf88d62155158875",
      "035acd43308b4167bcd4505c20664896",
      "b13ba1d6bf6d4cff9a5fb9cd34c513b6",
      "323bfe62bc71487b8bfa3d0a3e7a750b",
      "19a55f1fa15c4c8fa0834603b0f59b2f",
      "a4656e462a6046fea5425171dd14b2d3",
      "d7b2fe5d5dd24cccb91fcfef39dc353f",
      "8c96a9420d9e4a37b4d97d85be3c53fd",
      "2a5919c9922444a8800a71fcde6cace3",
      "14dc1f42ed194174902c12a89bc51410",
      "93b9e28e243842b2ac539691620f2291",
      "e495803b2acb45e18a24d9a7b432332f",
      "2bc1d02aa831445fb4809835fe6c3fdb",
      "d83aeb2e0c8549b181cdb926d2499d71",
      "7dffac98c2674b62bc4075e464038130",
      "33b63b253f6a49e98b9624a15f769f8a",
      "c3725c6b4308424d98cf57b401ef25ef",
      "f2f0b481990f4fefb2aa23d6b5d4bf27",
      "03faf44356eb4883a61fff4fd0ad5aff",
      "83f66b2128b74354956d647b2e54e197",
      "f800e32fc2a94e5a855317f87b1ffded",
      "0357eaad4a7d436e8a8668616703b15b",
      "4b47f1a408374c838fde13eede1462d7",
      "f6474d52ed47452694a042ef19fdcc0e",
      "85faf88dc7f54d90b2432eeb6c64b3b5",
      "1abde06a8f5f47079f69b8dae1656c84",
      "2e2117f1b45541ef9c92e5a7276e992c",
      "3a0a7633012c4d6cbb42fa3c045367cd",
      "32f6827727384e278b3d499d3849bd9d",
      "020c3177c53c4f89bef30b5d8bd8f395",
      "68fc566914f04b239efedacd42fb8b8f",
      "ad3b47a9e81e4b4c895d469569345107",
      "b8aff8e768a5431195257c33f7e01b76",
      "9d4b0993d5a348bb800c939de1c9fb8c",
      "24881d9c093f4df3bf40e7ea246f43ad",
      "09e9489340474eba9beebd6595b45e5f",
      "abbf057ef51d4849bfc4955545aad172",
      "5db8ddcd56d145acb80e7beaa9766e58",
      "86eb9dc1c91740efad6c78230c3500d1",
      "ea674d9e024648b4b0a88a8b168dea67",
      "623cc1ac2ab44b59ad088800d56e4040",
      "c773abb09b134db8936f0f09be1d0b0e",
      "2fdd5b01a13a4769bdddd7d6ccd85392",
      "7db9fbd45c184c3fb981ed07a241bcc7",
      "89e904c33f134ea2b3664a3e17758fc7",
      "da280f9ded084ad89ac17eb5255993f4",
      "7b5c9f9fde1e4c84a85434fa26d7a31d",
      "0330aa387dfc496f84cc97a5a1f4b79b",
      "ef7023e5aa3b4298bfe53b18e3cdb9f3",
      "f4b61222bd6a4b25becf0784804a8889",
      "20167136deed434395c883dfe9c9d07a",
      "cfa38928dbd342138ad238fdb1dcaaac",
      "c9317f592ffc4c5ca4d08d248c1b153b",
      "c303e366449c40199dc46ef8d03185aa",
      "933f0d2510f942dd84ad862453b0bc12",
      "5120f41772c6420fa2d29c9dcbf24213",
      "69f4445523894928bf7a99f973b4cae9",
      "9e26c862b2ce497e91bbe2026a19ccf6",
      "f9384b65c2224e20bf6b69e7cb0b7e4c",
      "a484f4a0568f4187a76ecc4c55d73706",
      "74da730f29cb46d798c97433318d3910",
      "375aa9e87b174e55af1965ce9265b561",
      "601a833580184bb8aa14cf5805d93ee9",
      "bb14f3d4b1074e41a205849ab9dc92a6",
      "ed8662e6a8e441c48942311268499544",
      "e2eed2ed63814c969e6e4c74a7c54eff",
      "f0b5aed432c44b6cae6a1de20e837446",
      "24aad525907e4413bdcd4eb54266d72a",
      "e576a4f09f8e4fe3be8e67edf754122f",
      "3b749e278fb142e4aacc179e77fde63a",
      "c555c9e4857348c8b852132f2a07dbd5",
      "34dd53c214914d5cb1486626f1190291",
      "33d26ab4aef6441a825fb38da20c8202",
      "770034fef5b1478b95c47af0a6924bae",
      "908622a340a047c88248f6f52d78dee1",
      "c0781127df7a4a76af73b9eafbae5bd9",
      "a44b9055768942dda39af23caa9a478a",
      "6c13d58c5f9846ff86b544396ff73697",
      "00e029354709405dbeec8f547f880b39",
      "3d99903b754d462998cb7a698a2b9f2f",
      "8f9da6c1eeb64ffa9763f2b00462a6fc",
      "74ec9cba8a244e1d93b71f2dc5a725ca",
      "1c8e9742de9d4e179245c5e57a0d7813",
      "78eb398439a94dce8c842936fb40ca62",
      "8a4b9c3a26284ffdb03d344fd3743e9b",
      "b8c42966227045798153b41f747caba1",
      "e3e9b27ffa074559b1a713997dcfebf2",
      "26ef7685ec5041d993521ca75322217c",
      "0e69c0e5aea245278921276b42a13964",
      "b20957c160474187b227bf8097e81935",
      "2fce3175e6c346e6bcdcb4c4d986b533",
      "c1cafadb02aa441f93dbb96dfdc741e1",
      "357f0d8cbc2e475da324ae4e5e2c94b3",
      "7f993ac8514f45a7981aa578e7625bce",
      "11f087d1da3140a7af98190fd8ba22e8",
      "c7fa88a5d077438c8926a31ab79e8ccc",
      "120f723081094489ad1a995b205f9d1c",
      "1c9973cc35244c72a61ec1ca67e26887",
      "0cd932d6e9a744faaae8e157cc9c01d3",
      "21310a8856964b22b71032708a6e5006",
      "82a385a01a0447f1a95aa97e03c34fad",
      "2a2e9ecf51f74376bf8d75606757b5e3",
      "50595c13b50b4aa2a77ac14d21fe1fcd",
      "ad5d3113280c4179ac646a356dcb37dc",
      "f9366428a834493bb12bdc31a6b6e93c",
      "53a3b946890a484695a7c1204f6869c4",
      "e6dbb8a1a387495890b45d34741022c6",
      "58616c45dd274fadb7a034538ff7407f",
      "d39b26dd625340aab97836b7d0a6adac",
      "f29cbabd7d974c5b8ef8977d8b9d4137",
      "a163b90bd6ac4e7b8cbab35a257de571",
      "b35c5f907ad44267bb9fccfd9e509616",
      "69727c2dc02045dd8fc160f8d38f71b1",
      "df73556c218d4a9b8b0ad61b3a06c8c2",
      "c8cfab5b5de74eb8965df0527b5529d8",
      "c142502c7d1c4aa990b700a844ff7e4e",
      "b3ed5da9f92540aa9b72f9eefc5e3e9a",
      "b4182048555544acbca2ad17f3a3f1ee",
      "03db9ced8b854c6984ab5022bb8c94bc",
      "da75a87513c3492cac27e50a402b7554",
      "561895bb34e548938ef90548fc56afd3",
      "92a531dbd17b4602a7b923c31052b98b",
      "dbfbb0d4e0d544eb9a2e2a10d6c32305",
      "ac375b0360ea464fac2eaec1e45af232",
      "088b1c5484cf4ffca95c2481cc0cd645",
      "87c71fc1e24e42a88e9faedae9f465e2",
      "1af958cc73824c57a551fd3782fcf747",
      "64a6edf4f5c0424cba8e2927074377b1",
      "d86704c862d04442ad2677fe4151736e",
      "b1dab2173e9345faa825efd38cb6c7ef",
      "9bd95bdc5f1440d6b6f2f8d44c357a83",
      "4b31e995ba8c4763b68fd5219fea7b39",
      "f681a6f26bb642a288fe92eaf326a8c8",
      "5223be95f10c48d5b7cfa08ba3304b6b",
      "5df562620cf84dc9ac46952f38afc835",
      "a3f1609bac344175b37644f4bd6495d0",
      "5e7a76c4b484483d963ef41aba0fc8d6",
      "db2a98b084fa4bec8f1cb5b8ea33e134",
      "a0275fc870c4466a878611354485bace",
      "c18f2206b8be48698e216f7fd18b772f",
      "995ed314879243b1bcfd517d8ae87d43",
      "e33e9fb45c1242a4aa99fb669419654e",
      "816f09c8828649648a6637aab3849fd4",
      "4001981ef54c4a1cb654a4b4823752ee",
      "4e82ca3d710e4069a808c893b17f71f8",
      "4ab21843e6a44829a33f553fc0720212",
      "e9fc83e8092349e5a64a422051ab9995",
      "53da3b1bddf94d7cb3585aa790282069",
      "3a0d967b19d84dd798727db9526a65cd",
      "1ce708483bc745f1a56bd0ce709bdd5c",
      "b9ac1339716f4804a855410af6d4bdc7",
      "8ff2f63f18f442c89fe44a40d47618de",
      "51b716a04a8f4872ba66f2b281379e1a",
      "12156101d8d74954974a2aa5049219ca",
      "8a5613793c21436ea30a154f8a15c98f",
      "d17af41275e3447a982088f7d050980c",
      "13389dc76b7f43fb8408bdbfb4d8fcd7",
      "4a0f1235178e450f8769eabcddc4ce47",
      "1365994500a24773b1d95d5f9a7b702b",
      "a894239628944be884578caed89e7a4a",
      "387575c98023497fa0dcf30ae4b7f1f4",
      "5330f24ebb8b491ea08862b57e5de855",
      "7f6804c87fed4928bb880ee879e74bb7",
      "34b4b7aa3caa4899aa047899fbf93327",
      "8ddf5bedb8cd4c639827d296fa4759aa",
      "8704c48172b74d4aab022ef65b9f1474",
      "3ba006abb0de4e758f111d51963ee106",
      "371b00f0193a447e97826ec77231f219",
      "bf390b6373eb481bba0d62d26f99b697",
      "03b839091d5546e7ad2ba237b5fe9453",
      "adebc3caf8d14ff3b3ab71c6d7f3d65e",
      "e8697925df0c40368779b7a0d20cf605",
      "c17e497a1c56428791e71788c980037a",
      "da305dda39a44d8ab96ce15dab9d6313",
      "0edfcc81de7c44cea53da5813ecf6b1f",
      "b10074179858486e82612182d5ea1a2b",
      "e933f0646c3e4955bba959652bb8e79f",
      "7ee8b880bc884b0cb26b745549065cc5",
      "036537ed7ee64045b8a9d1b93be9eb76",
      "2ebb16feb33940198ffcbd251181ed4b",
      "03aa68fe52ad43c68fc22452451d0bfd",
      "15245e877d0f441f99ea59eee91aabdc",
      "1850ef2be7254194b904431ded66dc9a",
      "23931aab2362415d9d44276550152ea3",
      "4d73e040df9d488683240e233eb4f0dd",
      "1668eb60e1eb45478a538ac680038b55",
      "f3285ae860f54ac18a1dfd9b37f49c8e",
      "89cf400d85e24c228ed8a3dbe9100b5d",
      "d85ee29aaafd454e9c16452d9063ca2d",
      "b6a787d4d354445386be8335ea9f2ddc",
      "42b33f06d9cb4bf99b36fa6bb5e38da7",
      "389f0649b1db48b68d154eae6fd0dfc0",
      "559166b8c5b5441f8afe2620a2add686",
      "d2c11dafa0a04012a970bdbd5a60d668",
      "e0e38056e3c24964b7e0403d9fd5892c",
      "3882bda7abef458a810b5689b8432a4c",
      "8a1f8fcf2f0043789cb105badc7f9726",
      "afa71eb2ef73449c934f1464ebe716ea",
      "20a411c83ed84c2a921cfd1ac954c7d1",
      "56ac1f7bba2f483fa981cef3dfb89bc2",
      "8b8efe8a71e042b29ab23f04c9a6bdc1",
      "0df6b9cc7d6f436c890f2cc9aaae85d2",
      "fba4fe2745f54c81b8b26f26876a8ba9",
      "949a1732dbe54e0b94e1513dc1c50079",
      "02d2f91bb9de4d0b88c981acce91fac4",
      "a25556b01f5f4e7c97206e65471982db",
      "304499fc393c429d8c6ec378e1e0e008",
      "c8bd4701aed546289c5433c83864525e",
      "be546cc0d9444bfca66842c2831441d5",
      "2540de462ec14c66ba3659e87016d7ec",
      "15ae199e37dc4eb1b1b58936653cd58c",
      "62ef668e94cd4fcb8f6cb53c6dccdd5d",
      "84a743e176d84027ab48d27ec539a1f8",
      "81d0752add1648708a9ee7aaa11e46a8",
      "3c702692bbbb468ea546e6c853fa9bce",
      "6e1570a792914b10acf0fdeb7a275178",
      "4649cff850364357bbe0567eade35add",
      "c5a8c6827ac74a50ada5f700419159f5",
      "80140415b64846f3b3376359103c8720",
      "dad06b985e674a01aea9da018e503846",
      "b27040cd4ede4adf88aed60478c9a4fd",
      "dcb6afdf7c534c52aef85b88ad0586e0",
      "1bf3820175e54045adfdf47dc5d3d09d",
      "e4b1d30a7d4540d2b2b82f5ff55dd845",
      "baf481c969a84317aae259e492527488",
      "2cbb2fccef16453e9c13ef6fa318fc9b",
      "804b0d3ffc8c4c95b0c324aa2c0802be",
      "017709e477744b19832752bb61af8b3e",
      "a4b825d675174c8a919000e0b7244595",
      "5a7cf627f6d14dd2b97e7ac22318b677",
      "14829954e7264929b39e96e0ac7fe29f",
      "28707ef8eb1b437386a87751b3d3c29c",
      "04e184829e104f449536bd6190fda0a1",
      "724abdd8964e4630ba440eba38264311",
      "cee0c7ecba5243689aad4654272c8b08",
      "a1aac399e0aa481395e6965ff19d5494",
      "a82a6dc722ee4610b025b82ab9a176b3",
      "7698b25a2add4b7caf81ffef322d6ca3",
      "4204cbb82d1d44c8b5868c1160acc2b9",
      "c3628b4eb6a44fe0b6cda9f5c0ceb309",
      "ef01a74ecceb47099e58b7252839cb70",
      "54c1292f642e4a1ebbe3c8424e9efb18",
      "1c8dc31d063e407f8fc2f5e07e956ae9",
      "812c6575acc74eaab57f3b65351ccd5a",
      "bbb5c4bffe1248e1997e888b183f1363",
      "3c160ed8d90a4dbeb39975629cb65b1e",
      "9f9a991a4d93490c91ead39dfdd31a2e",
      "0f3649e22e1440249d5b2b221ce15952",
      "9728f999dc1b4d11ba9a0770aebbb024",
      "22d45c9de856459d9b3faebf074d8cfd",
      "1a29e921d2da42d58edac41452c2c5a8",
      "94d9fdaaea344c3bb538c7557b88fe0c",
      "588615282e3c4d00a79dba55ca87994b",
      "91fd8cee10854cdfb60e5854433cc47f",
      "21f895813dd64ba197af0f04e553ac62",
      "3334417511444145b5030be5934a3df8",
      "b655fab4a78d4af3937fff73d74c07a8",
      "1f7e4fd2b8ff4c25805df5d506b00dec",
      "9f0f2b8b81fe49148620611ce9a3902e",
      "2bafc2d252354a439a6c3427d8de4ee4",
      "503fda8f00ce46c4a00c029719e4a20e",
      "d5505227135c4622b5c1178b870b2986",
      "05b3af093dce4dc799cf739a02de163c",
      "da037f5c41584afcb615e92963829ac8",
      "ce6f6e7f90444767909912d3e64a37ed",
      "8b47092d44244bcc8d0497b6977e3329",
      "efcd8c894c70429ea41a3769f569e91f",
      "bb32abd5e79a47d4bec947019c9f3796",
      "8b5887eb57514411a64b14cafe6b67f0",
      "44819d8a782a4baeb40ee792a9dbaabe",
      "790d0ed8ab0640b3a62b98f88e79c3ec",
      "9f23802ea7e04cb895510b078cf4d771",
      "b944a352f9b842d2ac948a0be9a79273",
      "6aad5074e6de41e590a7a5d34d124452",
      "8c9fa1e8c05246a995381ab3a8a6eae5",
      "f19d25663faf44d897860d0e9e57a80b",
      "0275f2bf3c1945d5984a0f98103a76cb",
      "81322918a5b34296b77b37e3ee052043",
      "2b1049a4c2694909a8fb114e3b6bb809",
      "e52091c7751b47d38398529eb731ecec",
      "df024dbef3d44ea29e790a6d6e284893",
      "e628724325ac4df78b362bdb13bf406d",
      "8c273e3fea7048cea6a55cfc19a01613",
      "017c661156144c6fa8aca650aca3dc01",
      "964e68a166154adb94517858a6633720",
      "e25fd5a058d14feea5311199b97c2541",
      "94bc3ed759144b758f97418373c95a88",
      "5170c4e20be54bd585aad706577533f2"
     ]
    },
    "id": "_AuipTVnIvEC",
    "outputId": "6f23b6c7-44db-49d3-fd73-9f2611fca901"
   },
   "outputs": [
    {
     "name": "stderr",
     "output_type": "stream",
     "text": [
      "/usr/local/lib/python3.12/dist-packages/paddle/utils/cpp_extension/extension_utils.py:718: UserWarning: No ccache found. Please be aware that recompiling all source files may be required. You can download and install ccache from: https://github.com/ccache/ccache/blob/master/doc/INSTALL.md\n",
      "  warnings.warn(warning_message)\n",
      "\u001b[32mCreating model: ('PP-LCNet_x1_0_doc_ori', None)\u001b[0m\n",
      "\u001b[32mUsing official model (PP-LCNet_x1_0_doc_ori), the model files will be automatically downloaded and saved in `/root/.paddlex/official_models/PP-LCNet_x1_0_doc_ori`.\u001b[0m\n",
      "/usr/local/lib/python3.12/dist-packages/huggingface_hub/utils/_auth.py:94: UserWarning: \n",
      "The secret `HF_TOKEN` does not exist in your Colab secrets.\n",
      "To authenticate with the Hugging Face Hub, create a token in your settings tab (https://huggingface.co/settings/tokens), set it as secret in your Google Colab and restart your session.\n",
      "You will be able to reuse this secret in all of your notebooks.\n",
      "Please note that authentication is recommended but still optional to access public models or datasets.\n",
      "  warnings.warn(\n"
     ]
    },
    {
     "data": {
      "application/vnd.jupyter.widget-view+json": {
       "model_id": "3f5e189ac1fa440ea5f3f8b1f304ded5",
       "version_major": 2,
       "version_minor": 0
      },
      "text/plain": [
       "Fetching 6 files:   0%|          | 0/6 [00:00<?, ?it/s]"
      ]
     },
     "metadata": {},
     "output_type": "display_data"
    },
    {
     "data": {
      "application/vnd.jupyter.widget-view+json": {
       "model_id": "285162eee2ee46cba5169143bb571eec",
       "version_major": 2,
       "version_minor": 0
      },
      "text/plain": [
       ".gitattributes: 0.00B [00:00, ?B/s]"
      ]
     },
     "metadata": {},
     "output_type": "display_data"
    },
    {
     "data": {
      "application/vnd.jupyter.widget-view+json": {
       "model_id": "4c381f740f9443ff9fd43991c25534b1",
       "version_major": 2,
       "version_minor": 0
      },
      "text/plain": [
       "config.json: 0.00B [00:00, ?B/s]"
      ]
     },
     "metadata": {},
     "output_type": "display_data"
    },
    {
     "data": {
      "application/vnd.jupyter.widget-view+json": {
       "model_id": "e7e8ae17cfbc4d999674c92939eefcbf",
       "version_major": 2,
       "version_minor": 0
      },
      "text/plain": [
       "README.md: 0.00B [00:00, ?B/s]"
      ]
     },
     "metadata": {},
     "output_type": "display_data"
    },
    {
     "data": {
      "application/vnd.jupyter.widget-view+json": {
       "model_id": "d086ae71c6a74e38b811930e8e277dc8",
       "version_major": 2,
       "version_minor": 0
      },
      "text/plain": [
       "inference.yml:   0%|          | 0.00/766 [00:00<?, ?B/s]"
      ]
     },
     "metadata": {},
     "output_type": "display_data"
    },
    {
     "data": {
      "application/vnd.jupyter.widget-view+json": {
       "model_id": "1e8c4d38179141ad904825e2130f7057",
       "version_major": 2,
       "version_minor": 0
      },
      "text/plain": [
       "inference.json: 0.00B [00:00, ?B/s]"
      ]
     },
     "metadata": {},
     "output_type": "display_data"
    },
    {
     "data": {
      "application/vnd.jupyter.widget-view+json": {
       "model_id": "4b22412434714a7ead11673b7015d835",
       "version_major": 2,
       "version_minor": 0
      },
      "text/plain": [
       "inference.pdiparams:   0%|          | 0.00/6.75M [00:00<?, ?B/s]"
      ]
     },
     "metadata": {},
     "output_type": "display_data"
    },
    {
     "name": "stderr",
     "output_type": "stream",
     "text": [
      "\u001b[32mCreating model: ('UVDoc', None)\u001b[0m\n",
      "\u001b[32mUsing official model (UVDoc), the model files will be automatically downloaded and saved in `/root/.paddlex/official_models/UVDoc`.\u001b[0m\n"
     ]
    },
    {
     "data": {
      "application/vnd.jupyter.widget-view+json": {
       "model_id": "a2f3c656c5e441d0b1fb953c9a40f8e1",
       "version_major": 2,
       "version_minor": 0
      },
      "text/plain": [
       "Fetching 6 files:   0%|          | 0/6 [00:00<?, ?it/s]"
      ]
     },
     "metadata": {},
     "output_type": "display_data"
    },
    {
     "data": {
      "application/vnd.jupyter.widget-view+json": {
       "model_id": "6585a079809f4acaaca8e5e49c3d70d4",
       "version_major": 2,
       "version_minor": 0
      },
      "text/plain": [
       ".gitattributes: 0.00B [00:00, ?B/s]"
      ]
     },
     "metadata": {},
     "output_type": "display_data"
    },
    {
     "data": {
      "application/vnd.jupyter.widget-view+json": {
       "model_id": "b13ba1d6bf6d4cff9a5fb9cd34c513b6",
       "version_major": 2,
       "version_minor": 0
      },
      "text/plain": [
       "inference.json: 0.00B [00:00, ?B/s]"
      ]
     },
     "metadata": {},
     "output_type": "display_data"
    },
    {
     "data": {
      "application/vnd.jupyter.widget-view+json": {
       "model_id": "d83aeb2e0c8549b181cdb926d2499d71",
       "version_major": 2,
       "version_minor": 0
      },
      "text/plain": [
       "config.json: 0.00B [00:00, ?B/s]"
      ]
     },
     "metadata": {},
     "output_type": "display_data"
    },
    {
     "data": {
      "application/vnd.jupyter.widget-view+json": {
       "model_id": "85faf88dc7f54d90b2432eeb6c64b3b5",
       "version_major": 2,
       "version_minor": 0
      },
      "text/plain": [
       "README.md: 0.00B [00:00, ?B/s]"
      ]
     },
     "metadata": {},
     "output_type": "display_data"
    },
    {
     "data": {
      "application/vnd.jupyter.widget-view+json": {
       "model_id": "09e9489340474eba9beebd6595b45e5f",
       "version_major": 2,
       "version_minor": 0
      },
      "text/plain": [
       "inference.yml:   0%|          | 0.00/330 [00:00<?, ?B/s]"
      ]
     },
     "metadata": {},
     "output_type": "display_data"
    },
    {
     "data": {
      "application/vnd.jupyter.widget-view+json": {
       "model_id": "7b5c9f9fde1e4c84a85434fa26d7a31d",
       "version_major": 2,
       "version_minor": 0
      },
      "text/plain": [
       "inference.pdiparams:   0%|          | 0.00/32.1M [00:00<?, ?B/s]"
      ]
     },
     "metadata": {},
     "output_type": "display_data"
    },
    {
     "name": "stderr",
     "output_type": "stream",
     "text": [
      "\u001b[32mCreating model: ('PP-LCNet_x1_0_textline_ori', None)\u001b[0m\n",
      "\u001b[32mUsing official model (PP-LCNet_x1_0_textline_ori), the model files will be automatically downloaded and saved in `/root/.paddlex/official_models/PP-LCNet_x1_0_textline_ori`.\u001b[0m\n"
     ]
    },
    {
     "data": {
      "application/vnd.jupyter.widget-view+json": {
       "model_id": "9e26c862b2ce497e91bbe2026a19ccf6",
       "version_major": 2,
       "version_minor": 0
      },
      "text/plain": [
       "Fetching 6 files:   0%|          | 0/6 [00:00<?, ?it/s]"
      ]
     },
     "metadata": {},
     "output_type": "display_data"
    },
    {
     "data": {
      "application/vnd.jupyter.widget-view+json": {
       "model_id": "e576a4f09f8e4fe3be8e67edf754122f",
       "version_major": 2,
       "version_minor": 0
      },
      "text/plain": [
       ".gitattributes: 0.00B [00:00, ?B/s]"
      ]
     },
     "metadata": {},
     "output_type": "display_data"
    },
    {
     "data": {
      "application/vnd.jupyter.widget-view+json": {
       "model_id": "3d99903b754d462998cb7a698a2b9f2f",
       "version_major": 2,
       "version_minor": 0
      },
      "text/plain": [
       "config.json: 0.00B [00:00, ?B/s]"
      ]
     },
     "metadata": {},
     "output_type": "display_data"
    },
    {
     "data": {
      "application/vnd.jupyter.widget-view+json": {
       "model_id": "2fce3175e6c346e6bcdcb4c4d986b533",
       "version_major": 2,
       "version_minor": 0
      },
      "text/plain": [
       "inference.yml:   0%|          | 0.00/735 [00:00<?, ?B/s]"
      ]
     },
     "metadata": {},
     "output_type": "display_data"
    },
    {
     "data": {
      "application/vnd.jupyter.widget-view+json": {
       "model_id": "2a2e9ecf51f74376bf8d75606757b5e3",
       "version_major": 2,
       "version_minor": 0
      },
      "text/plain": [
       "inference.json: 0.00B [00:00, ?B/s]"
      ]
     },
     "metadata": {},
     "output_type": "display_data"
    },
    {
     "data": {
      "application/vnd.jupyter.widget-view+json": {
       "model_id": "69727c2dc02045dd8fc160f8d38f71b1",
       "version_major": 2,
       "version_minor": 0
      },
      "text/plain": [
       "README.md: 0.00B [00:00, ?B/s]"
      ]
     },
     "metadata": {},
     "output_type": "display_data"
    },
    {
     "data": {
      "application/vnd.jupyter.widget-view+json": {
       "model_id": "ac375b0360ea464fac2eaec1e45af232",
       "version_major": 2,
       "version_minor": 0
      },
      "text/plain": [
       "inference.pdiparams:   0%|          | 0.00/6.74M [00:00<?, ?B/s]"
      ]
     },
     "metadata": {},
     "output_type": "display_data"
    },
    {
     "name": "stderr",
     "output_type": "stream",
     "text": [
      "\u001b[32mCreating model: ('PP-OCRv5_server_det', None)\u001b[0m\n",
      "\u001b[32mUsing official model (PP-OCRv5_server_det), the model files will be automatically downloaded and saved in `/root/.paddlex/official_models/PP-OCRv5_server_det`.\u001b[0m\n"
     ]
    },
    {
     "data": {
      "application/vnd.jupyter.widget-view+json": {
       "model_id": "5df562620cf84dc9ac46952f38afc835",
       "version_major": 2,
       "version_minor": 0
      },
      "text/plain": [
       "Fetching 6 files:   0%|          | 0/6 [00:00<?, ?it/s]"
      ]
     },
     "metadata": {},
     "output_type": "display_data"
    },
    {
     "data": {
      "application/vnd.jupyter.widget-view+json": {
       "model_id": "4ab21843e6a44829a33f553fc0720212",
       "version_major": 2,
       "version_minor": 0
      },
      "text/plain": [
       "README.md: 0.00B [00:00, ?B/s]"
      ]
     },
     "metadata": {},
     "output_type": "display_data"
    },
    {
     "data": {
      "application/vnd.jupyter.widget-view+json": {
       "model_id": "13389dc76b7f43fb8408bdbfb4d8fcd7",
       "version_major": 2,
       "version_minor": 0
      },
      "text/plain": [
       "inference.yml:   0%|          | 0.00/903 [00:00<?, ?B/s]"
      ]
     },
     "metadata": {},
     "output_type": "display_data"
    },
    {
     "data": {
      "application/vnd.jupyter.widget-view+json": {
       "model_id": "371b00f0193a447e97826ec77231f219",
       "version_major": 2,
       "version_minor": 0
      },
      "text/plain": [
       "inference.json: 0.00B [00:00, ?B/s]"
      ]
     },
     "metadata": {},
     "output_type": "display_data"
    },
    {
     "data": {
      "application/vnd.jupyter.widget-view+json": {
       "model_id": "036537ed7ee64045b8a9d1b93be9eb76",
       "version_major": 2,
       "version_minor": 0
      },
      "text/plain": [
       "config.json: 0.00B [00:00, ?B/s]"
      ]
     },
     "metadata": {},
     "output_type": "display_data"
    },
    {
     "data": {
      "application/vnd.jupyter.widget-view+json": {
       "model_id": "b6a787d4d354445386be8335ea9f2ddc",
       "version_major": 2,
       "version_minor": 0
      },
      "text/plain": [
       ".gitattributes: 0.00B [00:00, ?B/s]"
      ]
     },
     "metadata": {},
     "output_type": "display_data"
    },
    {
     "data": {
      "application/vnd.jupyter.widget-view+json": {
       "model_id": "8b8efe8a71e042b29ab23f04c9a6bdc1",
       "version_major": 2,
       "version_minor": 0
      },
      "text/plain": [
       "inference.pdiparams:   0%|          | 0.00/87.9M [00:00<?, ?B/s]"
      ]
     },
     "metadata": {},
     "output_type": "display_data"
    },
    {
     "name": "stderr",
     "output_type": "stream",
     "text": [
      "\u001b[32mCreating model: ('eslav_PP-OCRv5_mobile_rec', None)\u001b[0m\n",
      "\u001b[32mUsing official model (eslav_PP-OCRv5_mobile_rec), the model files will be automatically downloaded and saved in `/root/.paddlex/official_models/eslav_PP-OCRv5_mobile_rec`.\u001b[0m\n"
     ]
    },
    {
     "data": {
      "application/vnd.jupyter.widget-view+json": {
       "model_id": "62ef668e94cd4fcb8f6cb53c6dccdd5d",
       "version_major": 2,
       "version_minor": 0
      },
      "text/plain": [
       "Fetching 6 files:   0%|          | 0/6 [00:00<?, ?it/s]"
      ]
     },
     "metadata": {},
     "output_type": "display_data"
    },
    {
     "data": {
      "application/vnd.jupyter.widget-view+json": {
       "model_id": "1bf3820175e54045adfdf47dc5d3d09d",
       "version_major": 2,
       "version_minor": 0
      },
      "text/plain": [
       ".gitattributes: 0.00B [00:00, ?B/s]"
      ]
     },
     "metadata": {},
     "output_type": "display_data"
    },
    {
     "data": {
      "application/vnd.jupyter.widget-view+json": {
       "model_id": "724abdd8964e4630ba440eba38264311",
       "version_major": 2,
       "version_minor": 0
      },
      "text/plain": [
       "inference.yml: 0.00B [00:00, ?B/s]"
      ]
     },
     "metadata": {},
     "output_type": "display_data"
    },
    {
     "data": {
      "application/vnd.jupyter.widget-view+json": {
       "model_id": "bbb5c4bffe1248e1997e888b183f1363",
       "version_major": 2,
       "version_minor": 0
      },
      "text/plain": [
       "README.md: 0.00B [00:00, ?B/s]"
      ]
     },
     "metadata": {},
     "output_type": "display_data"
    },
    {
     "data": {
      "application/vnd.jupyter.widget-view+json": {
       "model_id": "3334417511444145b5030be5934a3df8",
       "version_major": 2,
       "version_minor": 0
      },
      "text/plain": [
       "inference.pdiparams:   0%|          | 0.00/7.81M [00:00<?, ?B/s]"
      ]
     },
     "metadata": {},
     "output_type": "display_data"
    },
    {
     "data": {
      "application/vnd.jupyter.widget-view+json": {
       "model_id": "efcd8c894c70429ea41a3769f569e91f",
       "version_major": 2,
       "version_minor": 0
      },
      "text/plain": [
       "inference.json: 0.00B [00:00, ?B/s]"
      ]
     },
     "metadata": {},
     "output_type": "display_data"
    },
    {
     "data": {
      "application/vnd.jupyter.widget-view+json": {
       "model_id": "81322918a5b34296b77b37e3ee052043",
       "version_major": 2,
       "version_minor": 0
      },
      "text/plain": [
       "config.json: 0.00B [00:00, ?B/s]"
      ]
     },
     "metadata": {},
     "output_type": "display_data"
    }
   ],
   "source": [
    "from paddleocr import PaddleOCR\n",
    "import spacy\n",
    "import fitz # PyMuPDF\n",
    "import cv2\n",
    "import numpy as np\n",
    "from PIL import Image\n",
    "\n",
    "# Инициализируем PaddleOCR.\n",
    "# Новые параметры: use_textline_orientation вместо use_angle_cls\n",
    "# Язык указывается как 'ru'\n",
    "# Параметры det и rec больше не используются напрямую в __init__\n",
    "ocr_model = PaddleOCR(use_textline_orientation=True, lang='ru')\n",
    "\n",
    "# Загружаем модель spaCy\n",
    "nlp = spacy.load(\"ru_core_news_sm\")"
   ]
  },
  {
   "cell_type": "markdown",
   "metadata": {
    "id": "hjY2mRJBI4vf"
   },
   "source": [
    "# Шаг 3. Смотрим на обработку модели с помощью тестового рисунка"
   ]
  },
  {
   "cell_type": "markdown",
   "metadata": {
    "id": "gymC96ygI_PW"
   },
   "source": [
    "Здесь посмотрим, как модель определяет текст на тестовом рисунке и PDF документе. Рисунок создан вручную, для образца был взят текст из произведения \"Война и Мир\" Л.Н. Толстого «Небо Аустерлица». Использовались разные шрифты, а фон был градиентом радуги (см. репозиторий). Условия весьма тяжелые, но модель уверенно справилась"
   ]
  },
  {
   "cell_type": "code",
   "execution_count": 4,
   "metadata": {
    "colab": {
     "base_uri": "https://localhost:8080/"
    },
    "id": "QcZrbTkoOlV4",
    "outputId": "fff7e387-4536-4e97-e735-ad8e08fafd75"
   },
   "outputs": [
    {
     "name": "stderr",
     "output_type": "stream",
     "text": [
      "/tmp/ipython-input-4221191544.py:34: DeprecationWarning: Please use `predict` instead.\n",
      "  result = ocr_model.ocr(image_path)\n"
     ]
    },
    {
     "name": "stdout",
     "output_type": "stream",
     "text": [
      "Действительно, другой француз, с ружьем наперевес, подбежал K борющимся, и участь рыжего артиллериста, всё ещё не понимавшего ТОГО ЧТО ожидает ego, H C торжеством ЭТО КОНЧИЛОСЬ. KAK 199 CO банник, была Но Андрей БИДАЛ ЧЕМ зыдернувшего должна решиться. князь не РАЗМАХА ПАЛКОЙ KTO-TO И3 БЛИЖАЙШИХ BCEГО КРЕПКОЮ COЛДАТ KAK EMY ПОКАЗАЛОСЬ. ударил его в было, боль развле ek Немного больно ала ero И мешала emy ролову. это a главное, неприятно, потому что эта отрел. «Что это? TO, B падаю! V меня HОГИ подка видеть шиваются», Ha ЧТО OH CM HO подумал OH И упал Ha спину. раскрыл глаза, надеясь увидать, чем кончилась орьба французов убит артиллеристами, И желая знать, ИVI HeT рыжий артиллерис C Над 0199 неба, спасены пушки. Ho ОН ничего не видал. НИМ не ничего уже, кроме ВЫСОКОГ ЗЯТЫ ИШИ неба, ПО HËM i 1 СЕРЫМИ ОБЛАКАМИ. нe ЯСНОГО HO всё- п -таки неизмеримо ВЫСОКОГО, с ТИХО ползущими ТИХО СПОКОЙНО іИ[ ТОРЖЕСТВЕНН COBCEM HIE TAK, KAK K БЕЖАЛ <KAK O ) КНЯЗЬ Андрей, тak, бежали, ПОДУМАЛ не kak МЫ кPи иеи H дрались; совсем nе банник францу озлобленными H испуганными лицами тащили друг y друга так, kak C совсем одлака hWowE бbCOKOMy бесконечнол артиллерист, He mak noл3ym no ЖE A HE БУДАЛ ПРЕЖДЕ ЭТОГО ВЫСОКОГО HE6A? И KAH HAH R СЧАСТЛИВ. HE6Y Да! Bcë beë о6MaH бскончного неба. пстое, ичего кроMе УЗНАЛ ЕГО наконец. ЭТОГО 4ТО тишины, нет, HeT, kpoMe УСПОКОЕНИЯ. И СΛАВА богу!. HeT, kрome его. H И тОГО дажё ничего ничего\n"
     ]
    }
   ],
   "source": [
    "def extract_text_from_pdf(pdf_path):\n",
    "    \"\"\"Извлекает текст из PDF, конвертируя страницы в изображения для OCR.\"\"\"\n",
    "    all_text = []\n",
    "    # Открываем PDF\n",
    "    pdf_document = fitz.open(pdf_path)\n",
    "    for page_num in range(len(pdf_document)):\n",
    "        page = pdf_document[page_num]\n",
    "        # Рендерим страницу в изображение (pixmap)\n",
    "        # dpi=200 - увеличиваем разрешение для лучшего OCR\n",
    "        mat = fitz.Matrix(2, 2) # масштаб 2x = dpi ~144 * 2 = ~288\n",
    "        pix = page.get_pixmap(matrix=mat)\n",
    "        # Конвертируем в numpy array\n",
    "        img_data = np.frombuffer(pix.tobytes(), dtype=np.uint8)\n",
    "        img_data = img_data.reshape((pix.height, pix.width, 3))\n",
    "\n",
    "        # Используем PaddleOCR для извлечения текста из изображения страницы\n",
    "        result = ocr_model.ocr(img_data)\n",
    "        # Результат - это список объектов OCRResult\n",
    "        # Берем первый результат (для одной страницы)\n",
    "        if result and len(result) > 0:\n",
    "             page_ocr_result = result[0]\n",
    "             # Извлекаем текст из 'rec_texts'\n",
    "             page_text = \"\\n\".join(page_ocr_result['rec_texts'])\n",
    "             all_text.append(page_text)\n",
    "        else:\n",
    "             # Если результат пустой, добавляем пустую строку\n",
    "             all_text.append(\"\")\n",
    "    pdf_document.close()\n",
    "    return all_text\n",
    "\n",
    "def extract_text_from_image(image_path):\n",
    "    \"\"\"Извлекает текст из изображения.\"\"\"\n",
    "    # PaddleOCR может напрямую работать с путем к файлу или numpy array\n",
    "    result = ocr_model.ocr(image_path)\n",
    "    # Результат - это список объектов OCRResult\n",
    "    # Берем первый результат (для одного изображения)\n",
    "    if result and len(result) > 0:\n",
    "        image_ocr_result = result[0]\n",
    "        # Извлекаем текст из 'rec_texts'\n",
    "        full_text = \" \".join(image_ocr_result['rec_texts'])\n",
    "        return full_text\n",
    "    else:\n",
    "        # Если результат пустой, возвращаем пустую строку\n",
    "        return \"\"\n",
    "\n",
    "# --- Пример вызова ---\n",
    "# text_from_pdf = extract_text_from_pdf('path_to_your_form.pdf')\n",
    "text_from_image = extract_text_from_image('/content/test_picture.png')\n",
    "print(text_from_image)"
   ]
  },
  {
   "cell_type": "markdown",
   "metadata": {
    "id": "MfHURoJjLBve"
   },
   "source": [
    "Точный процент попадания определить крайне сложно, но основные проблемы были с самым сложным шрифтом. С базовыми шрифтами модель справилась отлично"
   ]
  },
  {
   "cell_type": "markdown",
   "metadata": {
    "id": "T3aa4hCCLp1W"
   },
   "source": [
    "# Шаг 4. Добавляем сущности и учимся их определять с помощью SpaCy\n"
   ]
  },
  {
   "cell_type": "markdown",
   "metadata": {
    "id": "q6by1QJ6Lt12"
   },
   "source": [
    "OCR редко когда используется без связки с определением сущностей, то есть нахождения определенных объектов. Попросим нейронку составить какой-нибудь текст с сущностями (То есть предполагаем, что наша OCR справилась на отлично и точно определяет текст)"
   ]
  },
  {
   "cell_type": "code",
   "execution_count": 5,
   "metadata": {
    "id": "1Bv152sZLo4m"
   },
   "outputs": [],
   "source": [
    "import re\n",
    "\n",
    "def extract_entities(text, nlp_model):\n",
    "    \"\"\"Извлекает сущности с помощью spaCy и regex.\"\"\"\n",
    "    # Обрабатываем текст с помощью spaCy\n",
    "    doc = nlp_model(text)\n",
    "\n",
    "    entities = {\n",
    "        \"PERSON\": [],\n",
    "        \"ORG\": [],\n",
    "        \"DATE\": [], # SpaCy может находить даты, но regex может быть точнее\n",
    "        \"MONEY\": [], # SpaCy не всегда находит деньги, используем regex\n",
    "        \"EXTRACTED_TEXT\": text # Возвращаем исходный текст\n",
    "    }\n",
    "\n",
    "    # Извлекаем сущности spaCy\n",
    "    for ent in doc.ents:\n",
    "        if ent.label_ in [\"PER\", \"PERSON\", \"ORG\"]:\n",
    "            label = ent.label_\n",
    "            if label == \"PER\":\n",
    "                label = \"PERSON\" # Приводим к общему виду\n",
    "            entities[label].append(ent.text.strip())\n",
    "\n",
    "    # Извлекаем даты с помощью regex (формат dd.mm.yyyy или dd/mm/yyyy и т.п.)\n",
    "    date_pattern = r'\\b(\\d{1,2}[./-]\\d{1,2}[./-]\\d{2,4})\\b'\n",
    "    dates = re.findall(date_pattern, text)\n",
    "    entities[\"DATE\"].extend(dates)\n",
    "\n",
    "    # Извлекаем суммы (например, 1234,56 руб., 1 234.56 USD, 1000)\n",
    "    # Этот regex довольно общий, его можно уточнить под конкретные форматы\n",
    "    money_pattern = r'(\\d{1,3}(?:[,\\s]\\d{3})*(?:\\.\\d{2})?\\s*(?:руб\\.?|р\\.?|USD|EUR|GBP|KZT|тг\\.?|тенге|т\\.?))'\n",
    "    money_matches = re.findall(money_pattern, text, re.IGNORECASE)\n",
    "    # Убираем лишние пробелы и нормализуем\n",
    "    entities[\"MONEY\"].extend([m.strip() for m in money_matches])\n",
    "\n",
    "    # Убираем дубликаты\n",
    "    for key in entities:\n",
    "        if key != \"EXTRACTED_TEXT\":\n",
    "             entities[key] = list(set(entities[key]))\n",
    "\n",
    "    return entities\n"
   ]
  },
  {
   "cell_type": "code",
   "execution_count": 6,
   "metadata": {
    "colab": {
     "base_uri": "https://localhost:8080/"
    },
    "id": "l5_8dAb_Myg2",
    "outputId": "5d86122d-5eba-4f5b-e4cd-b904653ae1f1"
   },
   "outputs": [
    {
     "name": "stdout",
     "output_type": "stream",
     "text": [
      "{'PERSON': ['Иванов Петр Николаевич', 'И.П. Иванов'], 'ORG': ['ООО \"Рога и Копыта\"'], 'DATE': ['25.07.1985', '15.03.2024', '16.03.2024'], 'MONEY': ['00 USD', '00 руб.'], 'EXTRACTED_TEXT': '\\nДоговор № 45/2024 от 15.03.2024 г.\\nКлиент: Иванов Петр Николаевич\\nИНН: 123456789012\\nОрганизация: ООО \"Рога и Копыта\"\\nАдрес: 123456, г. Москва, ул. Ленина, д. 10\\nСумма кредита: 1 250 000,00 руб.\\nПроцентная ставка: 12,5% годовых\\nДата рождения: 25.07.1985\\nПодпись: И.П. Иванов\\nДата подписания: 16.03.2024\\nСумма переплаты: 150 000,00 USD\\n'}\n"
     ]
    }
   ],
   "source": [
    "ocr_extracted_text = \"\"\"\n",
    "Договор № 45/2024 от 15.03.2024 г.\n",
    "Клиент: Иванов Петр Николаевич\n",
    "ИНН: 123456789012\n",
    "Организация: ООО \"Рога и Копыта\"\n",
    "Адрес: 123456, г. Москва, ул. Ленина, д. 10\n",
    "Сумма кредита: 1 250 000,00 руб.\n",
    "Процентная ставка: 12,5% годовых\n",
    "Дата рождения: 25.07.1985\n",
    "Подпись: И.П. Иванов\n",
    "Дата подписания: 16.03.2024\n",
    "Сумма переплаты: 150 000,00 USD\n",
    "\"\"\"\n",
    "\n",
    "# Извлекаем сущности\n",
    "extracted_entities = extract_entities(ocr_extracted_text, nlp)\n",
    "\n",
    "# Выводим результат\n",
    "print(extracted_entities)"
   ]
  },
  {
   "cell_type": "markdown",
   "metadata": {
    "id": "fZZu9V88NL8-"
   },
   "source": [
    "Прекрасно, все данные находятся"
   ]
  },
  {
   "cell_type": "markdown",
   "metadata": {
    "id": "UcvhhBzgNdft"
   },
   "source": [
    "# Шаг 5. Поднимаем FAST API и тестируем через него"
   ]
  },
  {
   "cell_type": "markdown",
   "metadata": {
    "id": "8Pa-QPhDNoGt"
   },
   "source": [
    "Обычно за  продакт отвечает или контейнеризация, или какой-нибудь бот в тг, или FAST API. У нас узконаправленный функционал, потому нет смысла выводить тг бота в сеть или контейнеризировать этого бота, потому просто поднимем апишку и поиграемся через него"
   ]
  },
  {
   "cell_type": "code",
   "execution_count": 7,
   "metadata": {
    "id": "J3z_tNSgOR9t"
   },
   "outputs": [],
   "source": [
    "from fastapi import FastAPI, File, UploadFile\n",
    "from fastapi.responses import JSONResponse\n",
    "import tempfile\n",
    "import os\n",
    "from typing import Optional\n",
    "import uvicorn\n",
    "\n",
    "app = FastAPI(title=\"OCR + NER Pipeline API\", description=\"Extract structured data from scanned forms (PDF/Image)\")\n",
    "\n",
    "@app.post(\"/extract_entities/\")\n",
    "async def process_document(file: UploadFile = File(...)):\n",
    "    \"\"\"\n",
    "    Принимает PDF или изображение, запускает OCR и NER, возвращает JSON с сущностями.\n",
    "    \"\"\"\n",
    "    # Получаем расширение файла\n",
    "    file_extension = os.path.splitext(file.filename)[1].lower()\n",
    "\n",
    "    # Создаем временный файл для загруженного контента\n",
    "    with tempfile.NamedTemporaryFile(delete=False, suffix=file_extension) as tmp_file:\n",
    "        content = await file.read()\n",
    "        tmp_file.write(content)\n",
    "        temp_file_path = tmp_file.name\n",
    "\n",
    "    try:\n",
    "        # Определяем тип файла и вызываем соответствующую функцию OCR\n",
    "        if file_extension in ['.pdf']:\n",
    "            extracted_text = extract_text_from_pdf(temp_file_path)\n",
    "        elif file_extension in ['.jpg', '.jpeg', '.png', '.bmp', '.tiff', '.webp']:\n",
    "            extracted_text = extract_text_from_image(temp_file_path)\n",
    "        else:\n",
    "            return JSONResponse(status_code=400, content={\"error\": f\"Unsupported file type: {file_extension}\"})\n",
    "\n",
    "        # Запускаем извлечение сущностей\n",
    "        entities = extract_entities(extracted_text, nlp)\n",
    "\n",
    "        # Возвращаем результат в формате JSON\n",
    "        return JSONResponse(status_code=200, content=entities)\n",
    "\n",
    "    except Exception as e:\n",
    "        return JSONResponse(status_code=500, content={\"error\": f\"An error occurred during processing: {str(e)}\"})\n",
    "\n",
    "    finally:\n",
    "        # Удаляем временный файл после обработки\n",
    "        os.unlink(temp_file_path)\n",
    "\n",
    "# --- Запуск сервера (в Colab нужно будет использовать ngrok для доступа извне) ---\n",
    "#uvicorn.run(app, host=\"0.0.0.0\", port=8000)"
   ]
  },
  {
   "cell_type": "code",
   "execution_count": 8,
   "metadata": {
    "colab": {
     "base_uri": "https://localhost:8080/"
    },
    "id": "77uk4-6dTWPd",
    "outputId": "b50ac237-4627-46de-a1ff-d7b34050291f"
   },
   "outputs": [
    {
     "name": "stdout",
     "output_type": "stream",
     "text": [
      "Collecting pyngrok\n",
      "  Downloading pyngrok-7.4.0-py3-none-any.whl.metadata (8.1 kB)\n",
      "Requirement already satisfied: PyYAML>=5.1 in /usr/local/lib/python3.12/dist-packages (from pyngrok) (6.0.2)\n",
      "Downloading pyngrok-7.4.0-py3-none-any.whl (25 kB)\n",
      "Installing collected packages: pyngrok\n",
      "Successfully installed pyngrok-7.4.0\n"
     ]
    }
   ],
   "source": [
    "!pip install pyngrok"
   ]
  },
  {
   "cell_type": "code",
   "execution_count": 9,
   "metadata": {
    "colab": {
     "base_uri": "https://localhost:8080/"
    },
    "id": "4qMmcQu8RQh9",
    "outputId": "e562c850-232a-4a62-d894-ca87daff8d8e"
   },
   "outputs": [
    {
     "name": "stdout",
     "output_type": "stream",
     "text": [
      "Authtoken saved to configuration file: /root/.config/ngrok/ngrok.yml\n"
     ]
    }
   ],
   "source": [
    "!ngrok config add-authtoken 33KNlDwV3fobKQyTeKkVoJHuIHI_7q8qmo7WjfVRJisZjoCjq"
   ]
  },
  {
   "cell_type": "code",
   "execution_count": 10,
   "metadata": {
    "colab": {
     "base_uri": "https://localhost:8080/"
    },
    "id": "Noyp2a3URYu1",
    "outputId": "53d3af60-b9ff-4668-d94b-7fa06b668dc4"
   },
   "outputs": [
    {
     "name": "stderr",
     "output_type": "stream",
     "text": [
      "INFO:     Started server process [158]\n",
      "INFO:     Waiting for application startup.\n",
      "INFO:     Application startup complete.\n",
      "INFO:     Uvicorn running on http://0.0.0.0:8000 (Press CTRL+C to quit)\n"
     ]
    },
    {
     "name": "stdout",
     "output_type": "stream",
     "text": [
      "Public URL: NgrokTunnel: \"https://spirometric-intractable-donella.ngrok-free.dev\" -> \"http://localhost:8000\"\n"
     ]
    }
   ],
   "source": [
    "from pyngrok import ngrok\n",
    "import threading\n",
    "import time\n",
    "import uvicorn\n",
    "\n",
    "def run_server():\n",
    "    uvicorn.run(app, host=\"0.0.0.0\", port=8000, log_level=\"info\")\n",
    "\n",
    "server_thread = threading.Thread(target=run_server)\n",
    "server_thread.start()\n",
    "\n",
    "time.sleep(5) # Ждем запуска сервера\n",
    "\n",
    "public_url = ngrok.connect(8000) # Теперь эта команда должна работать\n",
    "print(f\"Public URL: {public_url}\")"
   ]
  },
  {
   "cell_type": "code",
   "execution_count": 11,
   "metadata": {
    "colab": {
     "base_uri": "https://localhost:8080/"
    },
    "id": "tKQ8d6dSUait",
    "outputId": "740f714a-09ef-418b-d647-06d5135002e6"
   },
   "outputs": [
    {
     "name": "stderr",
     "output_type": "stream",
     "text": [
      "/tmp/ipython-input-4221191544.py:34: DeprecationWarning: Please use `predict` instead.\n",
      "  result = ocr_model.ocr(image_path)\n"
     ]
    },
    {
     "name": "stdout",
     "output_type": "stream",
     "text": [
      "INFO:     34.168.138.246:0 - \"POST /extract_entities/ HTTP/1.1\" 200 OK\n",
      "Status Code: 200\n",
      "Response JSON: {'PERSON': ['И.П. Ив', 'И Копыта I Адрес', 'Петр Николаевич', 'Клиент: Иванов'], 'ORG': [], 'DATE': ['25.07.1985', '15.03.2024', '16.03.2024'], 'MONEY': ['00 USD'], 'EXTRACTED_TEXT': 'Договор № 45/2024 OT 15.03.2024 г. Клиент: Иванов Петр Николаевич ИНН: 123456789012 Организация: 000 \"P ora И Копыта I Адрес: 123456, г. Москва yΛ. Лenina A. 10 Сymma кредита: г 250 000,00 py6. Процентная ставка: 12,5% ГОДОВЫХ Δата рождения: 25.07.1985 Подпись: И.П. Ив aHOB Дата подписания: 16.03.2024 Cymma 150 000,00 USD переплаты:'}\n"
     ]
    }
   ],
   "source": [
    "import requests\n",
    "\n",
    "# URL, который дал ngrok, плюс путь к эндпоинту\n",
    "api_url = \"https://spirometric-intractable-donella.ngrok-free.dev/extract_entities/\"\n",
    "\n",
    "# Путь к тестовому файлу (PDF или изображение) в твоём Colab\n",
    "file_path = \"/content/test_picture2.png\" # Или путь к PDF\n",
    "\n",
    "# Открываем файл в бинарном режиме\n",
    "with open(file_path, \"rb\") as f:\n",
    "    # Подготовляем файл для отправки\n",
    "    files = {\"file\": (file_path, f, \"image/png\")} # Укажи правильный MIME-тип, например, image/jpeg, application/pdf\n",
    "    # Отправляем POST-запрос\n",
    "    response = requests.post(api_url, files=files)\n",
    "\n",
    "# Выводим статус и содержимое ответа\n",
    "print(\"Status Code:\", response.status_code)\n",
    "print(\"Response JSON:\", response.json())"
   ]
  },
  {
   "cell_type": "markdown",
   "metadata": {
    "id": "IerScHNbgBRc"
   },
   "source": [
    "Отлично, всё работает. Мы пролучили ответ в виде JSON файла, который можем скачать и с  которым можем производить определенные действия\n"
   ]
  },
  {
   "cell_type": "markdown",
   "metadata": {
    "id": "PjSMZntOgMuD"
   },
   "source": [
    "# Заключение"
   ]
  },
  {
   "cell_type": "markdown",
   "metadata": {
    "id": "aQM7W1a8gPJL"
   },
   "source": [
    "Мы Настроили сначала систему OCR и проверили ее на тестовом изображении. Тест распознался на 90+ % верно, ошибку вызвал слишком нечитаемый шрифт. С классическими шрифтами OCR справилась отлично\n",
    "\n",
    "Далее подключили сущности и с помощью spaCy находили их. Так же было всё успешно найдено и определено.\n",
    "\n",
    "Уже в конце настроили FAST API через ngrok подняли сервер, отправили на сервер второе тестовое изображение, где был текст с сущностями и получили в ответ JSON файл, который мы можем сохранить и использовать в дальнейшем"
   ]
  }
 ],
 "metadata": {
  "colab": {
   "authorship_tag": "ABX9TyO4A7uLdgEhl0JiWBEQvxMc",
   "include_colab_link": true,
   "provenance": []
  },
  "kernelspec": {
   "display_name": "Python 3",
   "name": "python3"
  },
  "language_info": {
   "name": "python"
  }
 },
 "nbformat": 4,
 "nbformat_minor": 0
}
